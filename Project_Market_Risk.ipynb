{
 "cells": [
  {
   "cell_type": "markdown",
   "id": "366939d0-89c6-4966-bb4f-a1c8d25e533b",
   "metadata": {
    "jp-MarkdownHeadingCollapsed": true
   },
   "source": [
    "# Market Risk Project"
   ]
  },
  {
   "cell_type": "code",
   "execution_count": 6,
   "id": "9cf739eb-5ab6-49ca-a909-86016d888ede",
   "metadata": {},
   "outputs": [],
   "source": [
    "import numpy as np\n",
    "import pandas as pd\n",
    "import matplotlib.pyplot as plt"
   ]
  },
  {
   "cell_type": "markdown",
   "id": "1bc2d53d-4d5f-494b-acb2-7368f1b82003",
   "metadata": {
    "jp-MarkdownHeadingCollapsed": true
   },
   "source": [
    "## Question A (Ex2, part of Q1 and of Q2 of TD1)\n",
    "\n",
    "### a)  \n",
    "From the time series of the daily prices of the stock Natixis between January 2015 and December 2016, provided with TD1, estimate a historical VaR on price returns at a one-day horizon for a given probability level (this probability is a parameter which must be changed easily). You must base your VaR on a non-parametric distribution (logistic Kernel, that is $K$ is the derivative of the logistic function $x \\mapsto \\frac{1}{1 + e^{-x}}$."
   ]
  },
  {
   "cell_type": "code",
   "execution_count": 7,
   "id": "4dc6c512-40c2-4794-853a-dac29a6a753a",
   "metadata": {},
   "outputs": [
    {
     "name": "stdout",
     "output_type": "stream",
     "text": [
      "(1023, 2)\n"
     ]
    }
   ],
   "source": [
    "df = pd.read_csv(\"/Users/Dell/OneDrive - De Vinci/Data Natixis.csv\", sep=';')\n",
    "print(df.shape)"
   ]
  },
  {
   "cell_type": "code",
   "execution_count": 8,
   "id": "396ab307",
   "metadata": {},
   "outputs": [
    {
     "data": {
      "text/html": [
       "<div>\n",
       "<style scoped>\n",
       "    .dataframe tbody tr th:only-of-type {\n",
       "        vertical-align: middle;\n",
       "    }\n",
       "\n",
       "    .dataframe tbody tr th {\n",
       "        vertical-align: top;\n",
       "    }\n",
       "\n",
       "    .dataframe thead th {\n",
       "        text-align: right;\n",
       "    }\n",
       "</style>\n",
       "<table border=\"1\" class=\"dataframe\">\n",
       "  <thead>\n",
       "    <tr style=\"text-align: right;\">\n",
       "      <th></th>\n",
       "      <th>Date</th>\n",
       "      <th>Prix</th>\n",
       "    </tr>\n",
       "  </thead>\n",
       "  <tbody>\n",
       "    <tr>\n",
       "      <th>0</th>\n",
       "      <td>2015-01-02</td>\n",
       "      <td>5,621</td>\n",
       "    </tr>\n",
       "    <tr>\n",
       "      <th>1</th>\n",
       "      <td>2015-01-05</td>\n",
       "      <td>5,424</td>\n",
       "    </tr>\n",
       "    <tr>\n",
       "      <th>2</th>\n",
       "      <td>2015-01-06</td>\n",
       "      <td>5,329</td>\n",
       "    </tr>\n",
       "    <tr>\n",
       "      <th>3</th>\n",
       "      <td>2015-01-07</td>\n",
       "      <td>5,224</td>\n",
       "    </tr>\n",
       "    <tr>\n",
       "      <th>4</th>\n",
       "      <td>2015-01-08</td>\n",
       "      <td>5,453</td>\n",
       "    </tr>\n",
       "  </tbody>\n",
       "</table>\n",
       "</div>"
      ],
      "text/plain": [
       "        Date   Prix\n",
       "0 2015-01-02  5,621\n",
       "1 2015-01-05  5,424\n",
       "2 2015-01-06  5,329\n",
       "3 2015-01-07  5,224\n",
       "4 2015-01-08  5,453"
      ]
     },
     "execution_count": 8,
     "metadata": {},
     "output_type": "execute_result"
    }
   ],
   "source": [
    "df.head()"
   ]
  },
  {
   "cell_type": "markdown",
   "id": "29f40d86-4cf9-4b9f-ac09-93e068f3b290",
   "metadata": {},
   "source": [
    "We have n days of price data\n",
    "- We compute daily returns for each of these days"
   ]
  },
  {
   "cell_type": "code",
   "execution_count": 16,
   "id": "2acebb3c-92e2-4fd6-8efd-753fc38625c1",
   "metadata": {},
   "outputs": [
    {
     "data": {
      "text/html": [
       "<div>\n",
       "<style scoped>\n",
       "    .dataframe tbody tr th:only-of-type {\n",
       "        vertical-align: middle;\n",
       "    }\n",
       "\n",
       "    .dataframe tbody tr th {\n",
       "        vertical-align: top;\n",
       "    }\n",
       "\n",
       "    .dataframe thead th {\n",
       "        text-align: right;\n",
       "    }\n",
       "</style>\n",
       "<table border=\"1\" class=\"dataframe\">\n",
       "  <thead>\n",
       "    <tr style=\"text-align: right;\">\n",
       "      <th></th>\n",
       "      <th>Date</th>\n",
       "      <th>Prix</th>\n",
       "      <th>Price</th>\n",
       "      <th>Returns</th>\n",
       "    </tr>\n",
       "  </thead>\n",
       "  <tbody>\n",
       "    <tr>\n",
       "      <th>1</th>\n",
       "      <td>2015-01-05</td>\n",
       "      <td>5,424</td>\n",
       "      <td>5.424</td>\n",
       "      <td>-0.035047</td>\n",
       "    </tr>\n",
       "    <tr>\n",
       "      <th>2</th>\n",
       "      <td>2015-01-06</td>\n",
       "      <td>5,329</td>\n",
       "      <td>5.329</td>\n",
       "      <td>-0.017515</td>\n",
       "    </tr>\n",
       "    <tr>\n",
       "      <th>3</th>\n",
       "      <td>2015-01-07</td>\n",
       "      <td>5,224</td>\n",
       "      <td>5.224</td>\n",
       "      <td>-0.019704</td>\n",
       "    </tr>\n",
       "    <tr>\n",
       "      <th>4</th>\n",
       "      <td>2015-01-08</td>\n",
       "      <td>5,453</td>\n",
       "      <td>5.453</td>\n",
       "      <td>0.043836</td>\n",
       "    </tr>\n",
       "    <tr>\n",
       "      <th>5</th>\n",
       "      <td>2015-01-09</td>\n",
       "      <td>5,34</td>\n",
       "      <td>5.340</td>\n",
       "      <td>-0.020723</td>\n",
       "    </tr>\n",
       "    <tr>\n",
       "      <th>...</th>\n",
       "      <td>...</td>\n",
       "      <td>...</td>\n",
       "      <td>...</td>\n",
       "      <td>...</td>\n",
       "    </tr>\n",
       "    <tr>\n",
       "      <th>1018</th>\n",
       "      <td>2018-12-21</td>\n",
       "      <td>4,045</td>\n",
       "      <td>4.045</td>\n",
       "      <td>-0.001481</td>\n",
       "    </tr>\n",
       "    <tr>\n",
       "      <th>1019</th>\n",
       "      <td>2018-12-24</td>\n",
       "      <td>4,01</td>\n",
       "      <td>4.010</td>\n",
       "      <td>-0.008653</td>\n",
       "    </tr>\n",
       "    <tr>\n",
       "      <th>1020</th>\n",
       "      <td>2018-12-27</td>\n",
       "      <td>3,938</td>\n",
       "      <td>3.938</td>\n",
       "      <td>-0.017955</td>\n",
       "    </tr>\n",
       "    <tr>\n",
       "      <th>1021</th>\n",
       "      <td>2018-12-28</td>\n",
       "      <td>4,088</td>\n",
       "      <td>4.088</td>\n",
       "      <td>0.038090</td>\n",
       "    </tr>\n",
       "    <tr>\n",
       "      <th>1022</th>\n",
       "      <td>2018-12-31</td>\n",
       "      <td>4,119</td>\n",
       "      <td>4.119</td>\n",
       "      <td>0.007583</td>\n",
       "    </tr>\n",
       "  </tbody>\n",
       "</table>\n",
       "<p>1022 rows × 4 columns</p>\n",
       "</div>"
      ],
      "text/plain": [
       "           Date   Prix  Price   Returns\n",
       "1    2015-01-05  5,424  5.424 -0.035047\n",
       "2    2015-01-06  5,329  5.329 -0.017515\n",
       "3    2015-01-07  5,224  5.224 -0.019704\n",
       "4    2015-01-08  5,453  5.453  0.043836\n",
       "5    2015-01-09   5,34  5.340 -0.020723\n",
       "...         ...    ...    ...       ...\n",
       "1018 2018-12-21  4,045  4.045 -0.001481\n",
       "1019 2018-12-24   4,01  4.010 -0.008653\n",
       "1020 2018-12-27  3,938  3.938 -0.017955\n",
       "1021 2018-12-28  4,088  4.088  0.038090\n",
       "1022 2018-12-31  4,119  4.119  0.007583\n",
       "\n",
       "[1022 rows x 4 columns]"
      ]
     },
     "execution_count": 16,
     "metadata": {},
     "output_type": "execute_result"
    }
   ],
   "source": [
    "df['Date'] = pd.to_datetime(df['Date'], dayfirst=True)\n",
    "df['Price'] = df['Prix'].str.replace(',', '.', regex=False).astype(float)\n",
    "df['Returns']=(df['Price']-df['Price'].shift(1))/df['Price'].shift(1)\n",
    "df.dropna()"
   ]
  },
  {
   "cell_type": "code",
   "execution_count": 10,
   "id": "13d5a211-4b65-4db7-95dd-04652e0f1017",
   "metadata": {},
   "outputs": [],
   "source": [
    "returns = []\n",
    "k = 1\n",
    "while df['Date'][k] != pd.to_datetime(\"02-01-2017\", dayfirst=True):\n",
    "    returns.append((df['Price'][k] - df['Price'][k - 1]) / df['Price'][k - 1])\n",
    "    k += 1\n"
   ]
  },
  {
   "cell_type": "code",
   "execution_count": 11,
   "id": "de0a36be-b775-45c1-8cb2-8c9fb0de7278",
   "metadata": {},
   "outputs": [
    {
     "name": "stdout",
     "output_type": "stream",
     "text": [
      "          Date   Prix  Price   Returns\n",
      "449 2016-10-03  4,113  4.113 -0.008677\n",
      "450 2016-10-04  4,223  4.223  0.026744\n",
      "451 2016-10-05   4,34  4.340  0.027705\n",
      "          Date   Prix  Price   Returns\n",
      "510 2016-12-28  5,379  5.379 -0.000186\n",
      "511 2016-12-29  5,328  5.328 -0.009481\n",
      "512 2016-12-30   5,36  5.360  0.006006\n"
     ]
    }
   ],
   "source": [
    "sample = df[(df['Date'] >= '2016-10-01')&(df['Date']<= '2016-12-31')].copy()\n",
    "print(sample.head(3))\n",
    "print(sample.tail(3))"
   ]
  },
  {
   "cell_type": "markdown",
   "id": "68eb5dbc-b309-4eda-9aae-e72c89612cdd",
   "metadata": {},
   "source": [
    "Kernel density estimators  \n",
    "Let $X_1,\\dots,X_n$ be independent identically distributed random variables that have a probability density $f$ with respect to the Lebesgue measure on $\\mathbb{R}$.\n",
    "The cumulative distribution function is:  \n",
    "$$F(x) = \\int_{-\\infty}^x f(t) \\, dt$$  \n",
    "\n",
    "A basic estimator is the moment estimator such that :  \n",
    "$$E[\\mathbf{1}_{\\{X \\leq x\\}}] = F(x)$$  \n",
    "\n",
    "The empirical cumulative distribution function is given by :  \n",
    "$$F_n(x) = \\frac{1}{n} \\sum_{i=1}^n \\mathbf{1}_{\\{X_i \\leq x\\}}$$  \n",
    "\n",
    "By the strong law of large numbers, we have that :\n",
    "$$F_n(x) \\to F(x), \\quad \\forall x \\in \\mathbb{R}$$  \n",
    "almost surely as $n \\to \\infty$. Therefore, $F_n(x)$ is a consistent estimator of $F(x)$  \n",
    "for every $x \\in \\mathbb{R}$. How can we estimate the density $f$? One of the first intuitive  \n",
    "solutions is based on the following argument. For sufficiently small $h > 0$ we  \n",
    "can write an approximation  \n",
    "\n",
    "$$f(x) = \\lim_{h \\to 0} \\frac{F(x + h) - F(x)}{h}$$\n",
    "$$f(x) \\approx \\frac{F(x + h) - F(x - h)}{2h}$$ \n",
    "\n",
    "Replacing $F$ by the estimate $F_n$, we define  \n",
    "$$\\hat{f}(x) = \\frac{F_n(x + h) - F_n(x - h)}{2h}$$  \n",
    "\n",
    "The function $\\hat{f}$ is an estimator of $f$ called the Rosenblatt estimator. We can  \n",
    "rewrite it in the form :  \n",
    "$$\\hat{f}(x) = \\frac{1}{2nh} \\sum_{i=1}^n \\mathbf{1}_{\\{x - h \\leq X_i \\leq x + h\\}} = \\frac{1}{nh} \\sum_{i=1}^n K_0\\left(\\frac{X_i - x}{h}\\right)$$  \n",
    "where $K_0(u) = \\frac{1}{2} I(-1 \\leq u \\leq 1)$. A simple generalization of the Rosenblatt estimator is given by  \n",
    "$$\\hat{f}_n(x) = \\frac{1}{nh} \\sum_{i=1}^n K\\left(\\frac{X_i - x}{h}\\right)$$"
   ]
  },
  {
   "cell_type": "markdown",
   "id": "74813912-2e23-47d0-975a-c8501c4963ae",
   "metadata": {},
   "source": [
    "__Calculate the VaR based on a non-parametric distribution__\n",
    "\n",
    "\n",
    "The logistic function is :\n",
    "\n",
    "\\begin{equation}g(x) = \\frac{1}{1+e^{-x}}\\end{equation}\n",
    "\n",
    "- $K$ : Kernel function\n",
    "\n",
    "\\begin{equation}K(x) = \\frac{e^{-x}}{(1 + e^{-x})^2}\\end{equation}\n",
    "\n",
    "or also :\n",
    "\n",
    "\\begin{equation}K(x) = g(x) \\cdot (1 - g(x))\\end{equation}\n",
    "\n",
    "- Then we estimate the CDF with the PDF estimator and after we normalize it\n",
    "- Last we find the VaR by using the CDF estimator\n",
    "\n",
    "\\begin{equation} VaR_{\\alpha\\text{ non-parametric}} = \\hat{F}^{-1}(\\alpha) \\end{equation}"
   ]
  },
  {
   "cell_type": "code",
   "execution_count": 22,
   "id": "80ca4891-4f6a-48ef-b9e2-3d3c8e7af14a",
   "metadata": {},
   "outputs": [
    {
     "data": {
      "image/png": "[encoded data removed]",
      "text/plain": [
       "<Figure size 640x480 with 1 Axes>"
      ]
     },
     "metadata": {},
     "output_type": "display_data"
    }
   ],
   "source": [
    "def logistic_function(x):\n",
    "    return 1 / (1 + np.exp(-x))\n",
    "\n",
    "def logistic_derivative(x):\n",
    "    fx = logistic_function(x)\n",
    "    return fx * (1 - fx)\n",
    "\n",
    "def kernel_density_estimator(x,tab, h):\n",
    "    n =len(tab)\n",
    "    kde = 0\n",
    "    for i in range(n):\n",
    "        kde += logistic_derivative((x-tab[i])/h)\n",
    "    return kde/(n*h)\n",
    "    \n",
    "time = np.linspace(-0.1, 0.1, 100)\n",
    "\n",
    "\n",
    "plt.plot(time, kernel_density_estimator(time, returns, h=0.001), label=\"h=0.001\", color=\"orange\")\n",
    "plt.plot(time, kernel_density_estimator(time, returns, h=0.003), label=\"h=0.003\", color=\"red\")\n",
    "plt.plot(time, kernel_density_estimator(time, returns, h=0.005), label=\"h=0.005\", color=\"magenta\")\n",
    "plt.plot(time, kernel_density_estimator(time, returns, h=0.008), label=\"h=0.008\", color=\"darkmagenta\")\n",
    "plt.plot(time, kernel_density_estimator(time, returns, h=0.01), label=\"h=0.01\", color=\"blue\")\n",
    "plt.plot(time, kernel_density_estimator(time, returns, h=0.02), label=\"h=0.02\", color=\"cyan\")\n",
    "\n",
    "plt.title(\"Kernel distribution\")\n",
    "plt.legend(loc=\"best\")\n",
    "plt.xlabel(\"x\")\n",
    "plt.ylabel(\"Density\")\n",
    "plt.grid()\n",
    "plt.show()\n"
   ]
  },
  {
   "cell_type": "code",
   "execution_count": 23,
   "id": "263d19d7-1741-47a8-ab42-98a0fd76edd4",
   "metadata": {},
   "outputs": [
    {
     "name": "stdout",
     "output_type": "stream",
     "text": [
      "-0.063\n"
     ]
    }
   ],
   "source": [
    "def trapezes(f, a, b, n, tab, h):\n",
    "    pas = (b - a) / n\n",
    "    integral = 0\n",
    "    for i in range(1, n):\n",
    "        integral += f(a + i * pas, tab, h) + f(a + (i + 1) * pas, tab, h)\n",
    "    return integral * pas / 2\n",
    "\n",
    "def VaR_non_parametric(alpha,h,tab):\n",
    "    index = 0\n",
    "    while trapezes(kernel_density_estimator, -2, index, 1000, tab, h) > alpha :\n",
    "        index += index - 0.001\n",
    "    return index\n",
    "\n",
    "returns_list = sample['Returns'].tolist()\n",
    "VaR_5_percent = VaR_non_parametric(0.05,0.01,returns_list)\n",
    "print(VaR_5_percent)"
   ]
  },
  {
   "cell_type": "markdown",
   "id": "94113a36-129d-4c81-9a0e-8efe8c1efc0b",
   "metadata": {},
   "source": [
    "### b)  \n",
    "Which proportion of price returns between January 2017 and December 2018 exceed the VaR threshold defined in the previous question? Do you validate the choice of this non-parametric VaR?"
   ]
  },
  {
   "cell_type": "code",
   "execution_count": 24,
   "id": "5f1f8ef6-631b-41b5-be3e-cb83d09ede24",
   "metadata": {
    "scrolled": true
   },
   "outputs": [
    {
     "name": "stdout",
     "output_type": "stream",
     "text": [
      "0.00196078431372549\n"
     ]
    }
   ],
   "source": [
    "out_sample = df[(df['Date'] >= '2017-01-01')&(df['Date']<= '2018-12-31')].copy()\n",
    "\n",
    "values =out_sample[out_sample['Returns'] < VaR_5_percent]\n",
    "proportion = len(values)/len(out_sample['Returns'])\n",
    "\n",
    "print(proportion)"
   ]
  },
  {
   "cell_type": "markdown",
   "id": "d6071090-b0df-4093-ac02-dc8d7fe620e1",
   "metadata": {
    "jp-MarkdownHeadingCollapsed": true
   },
   "source": [
    "## Question B (Ex2, Q4 of TD2)\n",
    "We want to calculate the VaR (on the arithmetic variation of price, at a one-day horizon) for a call\n",
    "option on the Natixis stock. You will implement a Monte-Carlo VaR since the call price is a non-linear\n",
    "function of the underlying price, that we are able to model thanks to historical data. Here is, in detail,\n",
    "how you must proceed:\n",
    "- Estimate the parameters of a standard Brownian motion on the Natixis stock between 2015\n",
    "and 2018, using an exponential weighting of the data.\n",
    "- Simulate a number N (say N=1000 or else, but justify your choice for this number) of prices of\n",
    "the stock in a one-day horizon (we are working at the last date of 2018).\n",
    "- Transform each of these prices of underlying in prices of the corresponding call (say at the\n",
    "money, with one-month maturity and 0 risk-free rate and dividend).\n",
    "- Pick the empirical quantile of these N call prices to build the VaR of the call. "
   ]
  },
  {
   "cell_type": "code",
   "execution_count": 27,
   "id": "00239598-7e6c-4b24-9e45-7dc9a08ec881",
   "metadata": {},
   "outputs": [
    {
     "name": "stdout",
     "output_type": "stream",
     "text": [
      "Current Call Price: 0.1526275865858262\n",
      "VaR at 95.0% confidence level: 0.004365345184582009\n"
     ]
    }
   ],
   "source": [
    "from scipy.stats import norm\n",
    "df['Date'] = pd.to_datetime(df['Date'], dayfirst=True)\n",
    "#df['Price'] = df['Price'].str.replace(',', '.', regex=False).astype(float)\n",
    "df['Returns']=(df['Price']-df['Price'].shift(1))/df['Price'].shift(1)\n",
    "df.dropna()\n",
    "\n",
    "mean = np.mean(df['Returns'])\n",
    "volatility = np.sqrt(np.mean(np.square(df['Returns']-mean)))\n",
    "\n",
    "N = 100  # Number of simulations\n",
    "S0 = df.tail(1)['Price'].values[0]\n",
    "T = 1 / 252  # One-day horizon (assuming 252 trading days in a year)\n",
    "\n",
    "np.random.seed(0)\n",
    "simulated_prices = np.zeros(N)\n",
    "\n",
    "for i in range(N):\n",
    "    z = np.random.normal()\n",
    "    simulated_price = S0 * np.exp((mean - 0.5 * volatility ** 2) * T + volatility * np.sqrt(T) * z)\n",
    "    simulated_prices[i] = simulated_price\n",
    "\n",
    "def black_scholes_call(S, K, T, r, sigma):\n",
    "    d1 = (np.log(S / K) + (r + 0.5 * sigma ** 2) * T) / (sigma * np.sqrt(T))\n",
    "    d2 = d1 - sigma * np.sqrt(T)\n",
    "    call_price = S * norm.cdf(d1) - K * np.exp(-r * T) * norm.cdf(d2)\n",
    "    return call_price\n",
    "\n",
    "K = S0  # Strike price (at-the-money)\n",
    "T_month = 1 / 12  # One-month maturity\n",
    "r = 0  # Risk-free rate\n",
    "sigma = volatility * np.sqrt(252)  # Annualized volatility\n",
    "\n",
    "call_prices = np.zeros(N)\n",
    "for i in range(N):\n",
    "    call_prices[i] = black_scholes_call(simulated_prices[i], K, T_month, r, sigma)\n",
    "\n",
    "confidence_level = 0.95\n",
    "empirical_quantile = np.percentile(call_prices, (1 - confidence_level) * 100)\n",
    "current_call_price = black_scholes_call(S0, K, T_month, r, sigma)\n",
    "var = current_call_price - empirical_quantile\n",
    "\n",
    "print(f\"Current Call Price: {current_call_price}\")\n",
    "print(f\"VaR at {confidence_level * 100}% confidence level: {var}\")"
   ]
  },
  {
   "cell_type": "markdown",
   "id": "c19c233e-fc12-4b3c-800f-6b3cb2f39daf",
   "metadata": {
    "jp-MarkdownHeadingCollapsed": true
   },
   "source": [
    "## Question C (Ex2, Q1 and Q3 of TD3)\n",
    "With the dataset provided for TD1 on Natixis prices, first calculate daily returns. You will then analyse\n",
    "these returns using a specific method in the field of the EVT.\n",
    "### a)\n",
    "Estimate the GEV parameters for the two tails of the distribution of returns, using the estimator of\n",
    "Pickands. What can you conclude about the nature of the extreme gains and losses? "
   ]
  },
  {
   "cell_type": "markdown",
   "id": "ca8ebee1-4949-4458-b7c0-cc6e88d2ffa8",
   "metadata": {},
   "source": [
    "(PAGE 189) \n",
    "\n",
    "Soit (X_n) une suite de variables aléatoires indépendantes identiquement distribuées, de fonction de répartition F appartenant au max-domaine d’attraction d’une loi GEV de paramètre ξ \\in \\mathbb{R}. Soit k une fonction de \\mathbb{N} dans \\mathbb{N}. Si\n",
    "\n",
    "\\begin{equation}\n",
    "\\lim_{n \\to \\infty} k(n) = \\infty\n",
    "\\end{equation}\n",
    "\n",
    "et\n",
    "\n",
    "\\begin{equation}\n",
    "\\lim_{n \\to \\infty} \\frac{k(n)}{n} = 0,\n",
    "\\end{equation}\n",
    "\n",
    "alors, l’estimateur de Pickands, défini par :\n",
    "\n",
    "\\begin{equation}\n",
    "\\xi_{P_{k(n),n}} = \\frac{1}{\\log(2)} \\log \\left( \\frac{X_{n-k(n)+1:n} - X_{n-2k(n)+1:n}}{X_{n-2k(n)+1:n} - X_{n-4k(n)+1:n}} \\right)\n",
    "\\end{equation}\n",
    "\n",
    "converge en probabilité vers ξ. De plus, si\n",
    "\n",
    "\\begin{equation}\n",
    "\\lim_{n \\to \\infty} \\frac{k(n)}{\\log(\\log(n))} = \\infty,\n",
    "\\end{equation}\n",
    "\n",
    "alors la convergence de \\xi_{P_{k(n),n}} vers ξ se fait presque sûrement et non pas seulement en probabilité."
   ]
  },
  {
   "cell_type": "markdown",
   "id": "d790a8a7",
   "metadata": {},
   "source": [
    "We create two new datasets: one containing only positive returns and the other containing only negative returns. This separation enables a focused and independent analysis of both tails of the distribution."
   ]
  },
  {
   "cell_type": "code",
   "execution_count": 9,
   "id": "7a920d33",
   "metadata": {},
   "outputs": [],
   "source": [
    "df_positifs = df[df['Returns'] > 0].copy()\n",
    "df_negatifs = df[df['Returns'] < 0].copy()"
   ]
  },
  {
   "cell_type": "markdown",
   "id": "bbabd813",
   "metadata": {},
   "source": [
    "We now create two new datasets. For df_positif, we add a column absolut_returns, where the returns are sorted in ascending order (a necessary step for calculating the Pickands estimator). For df_negatif, we first convert all returns to their absolute values, then sort them in ascending order as well."
   ]
  },
  {
   "cell_type": "code",
   "execution_count": 11,
   "id": "afb7d312",
   "metadata": {},
   "outputs": [],
   "source": [
    "df_positifs_sorted = df_positifs.sort_values(by='Returns', ascending=True).reset_index(drop=True)\n",
    "df_negatifs_sorted = df_negatifs.assign(Rendement_Absolu=np.abs(df_negatifs['Returns'])).sort_values(by='Rendement_Absolu', ascending=True).reset_index(drop=True)"
   ]
  },
  {
   "cell_type": "markdown",
   "id": "834cdad9",
   "metadata": {},
   "source": [
    "We now create our method  k to initialize the function  k(n) with the following criteria:\n",
    "\n",
    "\\begin{equation}\n",
    "\\lim_{n \\to \\infty} k(n) = \\infty\n",
    "\\end{equation}\n",
    "\n",
    "and\n",
    "\n",
    "\\begin{equation}\n",
    "\\lim_{n \\to \\infty} \\frac{k(n)}{n} = 0\n",
    "\\end{equation}\n",
    "\n",
    "Ici nous choisissons la fonction :\n",
    "\n",
    "\\begin{equation}\n",
    "\\ k(n) = \\log(n) \\\n",
    " \\end{equation}\n",
    "\n",
    "Here, we choose the logarithme, which is commonly used when calculating the Pickands estimator."
   ]
  },
  {
   "cell_type": "code",
   "execution_count": 12,
   "id": "35a1d212",
   "metadata": {},
   "outputs": [],
   "source": [
    "def k(n):\n",
    "    return int(np.log(n))"
   ]
  },
  {
   "cell_type": "markdown",
   "id": "9924d758",
   "metadata": {},
   "source": [
    "Now we define our methode Pickand_ Estimator that will implement this formula : \n",
    "\n",
    "\\begin{equation}\n",
    "\\xi_{P_{k(n),n}} = \\frac{1}{\\log(2)} \\log \\left( \\frac{X_{n-k(n)+1:n} - X_{n-2k(n)+1:n}}{X_{n-2k(n)+1:n} - X_{n-4k(n)+1:n}} \\right)\n",
    "\\end{equation}\n",
    "\n",
    "In order to create our Pickand estimator"
   ]
  },
  {
   "cell_type": "code",
   "execution_count": 13,
   "id": "c08e31aa",
   "metadata": {},
   "outputs": [],
   "source": [
    "def Pickand_Estimator(df):\n",
    "    n=len(df)\n",
    "    pickand = (1 / np.log(2)) * np.log(\n",
    "     (df['Returns'].iloc[n - int(k(n))] - df['Returns'].iloc[n - 2 * int(k(n)) ]) / \n",
    "     (df['Returns'].iloc[n - 2 * int(k(n))] - df['Returns'].iloc[n - 4 * int(k(n)) ])\n",
    "    )\n",
    "    return pickand"
   ]
  },
  {
   "cell_type": "code",
   "execution_count": 15,
   "id": "62cc02d3",
   "metadata": {},
   "outputs": [
    {
     "name": "stdout",
     "output_type": "stream",
     "text": [
      "Pickand estimator for our positive returns : 0.5772338569463286\n",
      "Pickand estimator for our negative returns : -0.508971577934174\n"
     ]
    }
   ],
   "source": [
    "pickand_positif=Pickand_Estimator(df_positifs_sorted)\n",
    "print(\"Pickand estimator for our positive returns :\", pickand_positif)\n",
    "\n",
    "pickand_negatif=Pickand_Estimator(df_negatifs_sorted)\n",
    "print(\"Pickand estimator for our negative returns :\", pickand_negatif)"
   ]
  },
  {
   "cell_type": "markdown",
   "id": "df472f97",
   "metadata": {},
   "source": [
    "**What can we conclude :**\n",
    "\n",
    "The GEV parameters estimated using the Pickands estimator indicate the following:\n",
    "\n",
    "1. **Positive Tail (Extreme Gains)**: The Pickands estimator for positive returns is ξ ≈ 0.577, which corresponds to a heavy tail (Fréchet type). This suggests that extreme gains are rare but can be very significant.\n",
    "\n",
    "2. **Negative Tail (Extreme Losses)**: The Pickands estimator for negative returns is  ξ ≈ -0.509 , which corresponds to a bounded tail (Weibull type). This indicates that extreme losses are limited by a threshold and their probability decays rapidly.\n",
    "\n"
   ]
  },
  {
   "cell_type": "markdown",
   "id": "66442c32-319b-4b9e-bc43-33a7cb52e766",
   "metadata": {},
   "source": [
    "### b)\n",
    "Determine the extremal index using the block or run de-clustering. "
   ]
  },
  {
   "cell_type": "markdown",
   "id": "750a76d8",
   "metadata": {},
   "source": [
    "Here, we will implement the run de-clustering method, which involves analyzing the occurrences of extreme values in a time series by grouping successive observations that exceed a certain threshold \n",
    "𝑢. This method allows us to calculate the extremal index \n",
    "𝜃, which quantifies the degree of temporal dependence among extreme values."
   ]
  },
  {
   "cell_type": "markdown",
   "id": "69cf670b",
   "metadata": {},
   "source": [
    "To calculate the extremal index 𝜃 , we will use the following formula:\n",
    "\n",
    "\\begin{equation}\n",
    "\\hat{\\theta}_{n}(u; r) = \\frac{\\sum_{i=1}^{n-r} \\mathbb{1}(X_i > u, M_{i,i+r} \\leq u)}{\\sum_{i=1}^{n-r} \\mathbb{1}(X_i > u)}\n",
    "\\end{equation}\n",
    "\n",
    "In this formula:\n",
    "\n",
    "- The **numerator** is a sum of indicator functions that take the value 1  if, for an observation X_i , the value exceeds the threshold  𝑢 **and** no other value exceeds the threshold  𝑢 in the time window of size r  (the run). This corresponds to the number of distinct extreme clusters.\n",
    "- The **denominator** is also a sum of indicator functions, which take the value  1  whenever an observation exceeds the threshold 𝑢. This corresponds to the total number of threshold exceedances in the series.\n",
    "\n",
    "The extremal index 𝜃 therefore represents the ratio between the number of extreme clusters and the total number of extreme observations.\n"
   ]
  },
  {
   "cell_type": "code",
   "execution_count": 58,
   "id": "e329273b",
   "metadata": {},
   "outputs": [],
   "source": [
    "def extremal_index_run_declustering(df, u, r):\n",
    "    # We first, convert 'Returns' to numpy array for faster computation\n",
    "    returns = df['abs_Returns'].values\n",
    "    n = len(returns)\n",
    "    numerator = 0\n",
    "    denominator = 0\n",
    "\n",
    "    # Loop through the data with respect to the run length\n",
    "    for i in range(n - r):\n",
    "        # We check if the current value is above the threshold\n",
    "        if returns[i] > u:\n",
    "            denominator += 1\n",
    "\n",
    "            # Calculate the maximum within the run window [i, i+r]\n",
    "            if np.max(returns[i + 1:i + r + 1]) <= u:\n",
    "                numerator += 1\n",
    "\n",
    "   \n",
    "    if denominator == 0:\n",
    "        return 0.0  \n",
    "\n",
    "    theta = numerator / denominator\n",
    "    return theta"
   ]
  },
  {
   "cell_type": "markdown",
   "id": "9e42473a",
   "metadata": {},
   "source": [
    "To use this method, it is important first to add an abs_returns column in order to account for both positive and negative returns. Next, we define our threshold \n",
    "𝑢, which in this case is 0.05, indicating a return threshold of 5% (or -5%), and our parameter \n",
    "𝑟, which is set to 5 days, roughly corresponding to a trading week."
   ]
  },
  {
   "cell_type": "code",
   "execution_count": 61,
   "id": "f9f057dd",
   "metadata": {},
   "outputs": [
    {
     "data": {
      "text/plain": [
       "0.6666666666666666"
      ]
     },
     "execution_count": 61,
     "metadata": {},
     "output_type": "execute_result"
    }
   ],
   "source": [
    "df['abs_Returns'] = df['Returns'].abs()\n",
    "extremal_index_run_declustering(df, 0.05,5)"
   ]
  },
  {
   "cell_type": "markdown",
   "id": "104f1fab",
   "metadata": {},
   "source": [
    "The result of \n",
    "𝜃=0.6666666666666666 means that with the threshold 𝑢=0.05\n",
    " (which corresponds to a 5% return, whether positive or negative), approximately 66.67% of the returns exceeding this threshold occur in isolation, meaning there are no other returns exceeding this threshold within the following 5-day period.\n",
    " This suggests that extreme events tend to be isolated rather than clustered in periods with several extreme returns in a row."
   ]
  },
  {
   "cell_type": "markdown",
   "id": "bcfd4626-fe97-4252-8781-491811b21e32",
   "metadata": {
    "jp-MarkdownHeadingCollapsed": true
   },
   "source": [
    "## Question D (Ex2, Q3 and Q4 of TD4)\n",
    "With the dataset provided for TD4:\n",
    "### a) \n",
    "Estimate all the parameters of the model of Almgren and Chriss. Is this model well specified?\n"
   ]
  },
  {
   "cell_type": "markdown",
   "id": "a54d871c-8037-4f54-8cea-558213084ac6",
   "metadata": {},
   "source": [
    "- Quantité X à liquider par tranches $n_1$, $n_2$, ..., avec $x_k$ = $X$ − $sum(j de 1 à k)$ $n_j$\n",
    "  \n",
    "- Trading à temps discret, pas de temps τ ici 1/24 et k de 1 à 24\n",
    "- Dynamique du prix selon marche aléatoire arithmétique : S_k = S_k−1 + σ(√τ)ε_k − τg(n_k/τ)\n",
    ", où g est la fonction d’impact permanent, dépendant de la vitesse de liquidation nk/τ entre les instants t_k−1 et t_k .\n",
    "- Font hypothèse que prix observé est différent de S (dynamique sous-jacente) à cause d’impact transitoire (trader épuise le carnet d’ordre entre t_k−1 et t_k , mais il se reconstitue instantanément en t_k ) : S(barre)_k = S_k−1 − h(n_k /τ ).\n",
    "- Prix obtenu pour la liquidation (prix initial sans friction + pertes d’illiquidité)\n",
    "\n",
    "- vol déjà estimée avant\n",
    "- γ à estimer : g(v) = γv,\n",
    "- η à estimer : h(nk/τ ) = ξsgn(nk ) + ηnk /τ"
   ]
  },
  {
   "cell_type": "code",
   "execution_count": 6,
   "id": "7c6c10d9-af6a-4ddd-a9be-f666fc0504a5",
   "metadata": {},
   "outputs": [
    {
     "name": "stdout",
     "output_type": "stream",
     "text": [
      "(1001, 5)\n",
      "transaction date (1=1day=24 hours)      float64\n",
      "bid-ask spread                          float64\n",
      "volume of the transaction (if known)    float64\n",
      "Sign of the transaction                   int64\n",
      "Price (before transaction)              float64\n",
      "dtype: object\n"
     ]
    }
   ],
   "source": [
    "df = pd.read_csv(\"Dataset TD4.csv\", sep=';')\n",
    "print(df.shape)\n",
    "\n",
    "for col in df.select_dtypes(include=['object']).columns:\n",
    "    df[col] = df[col].str.replace(',', '.', regex=False).astype(float, errors='ignore')\n",
    "\n",
    "print(df.dtypes)"
   ]
  },
  {
   "cell_type": "markdown",
   "id": "9c3f5d25-8a3d-4acf-8121-d42459d00522",
   "metadata": {},
   "source": [
    "__Linear Regression: Method of Least Squares__\n",
    "\n",
    "$$\n",
    "y = X\\beta + \\epsilon\n",
    "$$\n",
    "\n",
    "where:\n",
    "- $y$ is the target variable here it is volume of the transaction (if not known)\n",
    "- $X$ is the matrix of input features (with a column of ones for the intercept).\n",
    "- $\\beta$ are the model coefficients to estimate.\n",
    "- $\\epsilon$ is the error.\n",
    "\n",
    "To estimate $\\beta$, we minimize the sum of squared errors and the optimal solution is given by:\n",
    "\n",
    "$$\n",
    "\\hat{\\beta} = (X^TX)^{-1}X^Ty\n",
    "$$\n",
    "\n",
    "This solution finds the line (or hyperplane) that best fits the data by minimizing the residual errors and we can estimate the volume of the transaction\n"
   ]
  },
  {
   "cell_type": "code",
   "execution_count": 3,
   "id": "7f966a5a-86f5-4267-9855-743bcaee1f4d",
   "metadata": {},
   "outputs": [
    {
     "name": "stdout",
     "output_type": "stream",
     "text": [
      "Données avec valeurs estimées :\n",
      "   transaction date (1=1day=24 hours)  bid-ask spread  \\\n",
      "0                            0.000202          0.1100   \n",
      "1                            0.001070          0.1030   \n",
      "2                            0.001496          0.1015   \n",
      "3                            0.003336          0.0920   \n",
      "4                            0.003952          0.1106   \n",
      "\n",
      "   volume of the transaction (if known)  Sign of the transaction  \\\n",
      "0                                     8                       -1   \n",
      "1                                   104                        1   \n",
      "2                                    86                       -1   \n",
      "3                                    94                        1   \n",
      "4                                   110                        1   \n",
      "\n",
      "   Price (before transaction)  \n",
      "0                     100.000  \n",
      "1                      99.984  \n",
      "2                     100.029  \n",
      "3                      99.979  \n",
      "4                     100.060  \n"
     ]
    },
    {
     "name": "stderr",
     "output_type": "stream",
     "text": [
      "/var/folders/pb/7xvj4nhx58l0kys571t39mtm0000gn/T/ipykernel_5267/2011926909.py:15: SettingWithCopyWarning: \n",
      "A value is trying to be set on a copy of a slice from a DataFrame.\n",
      "Try using .loc[row_indexer,col_indexer] = value instead\n",
      "\n",
      "See the caveats in the documentation: https://pandas.pydata.org/pandas-docs/stable/user_guide/indexing.html#returning-a-view-versus-a-copy\n",
      "  unknown['volume of the transaction (if known)'] = X_unknown @ beta\n"
     ]
    }
   ],
   "source": [
    "known = df[df['volume of the transaction (if known)'].notna()]\n",
    "unknown = df[df['volume of the transaction (if known)'].isna()]\n",
    "\n",
    "X_known = known[['transaction date (1=1day=24 hours)', 'bid-ask spread','Sign of the transaction', 'Price (before transaction)']].values\n",
    "y_known = known['volume of the transaction (if known)'].values\n",
    "\n",
    "X_known = np.c_[np.ones(X_known.shape[0]), X_known]\n",
    "\n",
    "beta = np.linalg.inv(X_known.T @ X_known) @ X_known.T @ y_known\n",
    "\n",
    "X_unknown = unknown[['transaction date (1=1day=24 hours)', 'bid-ask spread','Sign of the transaction', 'Price (before transaction)']].values\n",
    "X_unknown = np.c_[np.ones(X_unknown.shape[0]), X_unknown]\n",
    "\n",
    "# Faire les prédictions\n",
    "unknown['volume of the transaction (if known)'] = X_unknown @ beta\n",
    "\n",
    "df.loc[unknown.index, 'volume of the transaction (if known)'] = unknown['volume of the transaction (if known)']\n",
    "df['volume of the transaction (if known)'] = (df['volume of the transaction (if known)'].replace(',', '', regex=True).round(0).astype('Int64'))\n",
    "\n",
    "print(\"Données avec valeurs estimées :\")\n",
    "print(df.head(5))"
   ]
  },
  {
   "cell_type": "markdown",
   "id": "bbccf558-2b2e-40eb-9725-2e929d676d86",
   "metadata": {},
   "source": [
    "We will compute permanent impact coefficient (𝜆)\n",
    "This coefficient is related to the long-term change in price (post-execution) due to the trade size. We estimate this through price change relative to volume (since this reflects the persistent effect after the transaction)."
   ]
  },
  {
   "cell_type": "code",
   "execution_count": 4,
   "id": "e7bd3b71-321d-4b47-b985-b8999d0af87e",
   "metadata": {},
   "outputs": [
    {
     "name": "stdout",
     "output_type": "stream",
     "text": [
      "Risk aversion parameter (lambda): -0.015336\n",
      "Expected Loss E[X]: -0.201636\n",
      "Variance V[X]: 0.191319\n",
      "Perturbed E[X]: -0.201637\n",
      "Perturbed V[X]: 0.191351\n"
     ]
    }
   ],
   "source": [
    "prices = df['Price (before transaction)'].values\n",
    "bid_ask_spread = df['bid-ask spread'].values\n",
    "signs = df['Sign of the transaction'].values\n",
    "\n",
    "# Compute transaction-adjusted prices (impact of bid-ask spread)\n",
    "transaction_prices = prices + (signs * bid_ask_spread / 2)\n",
    "\n",
    "# 2. Calculate Expected Loss E[X]\n",
    "expected_loss = np.mean(transaction_prices - prices[0])\n",
    "\n",
    "# 3. Calculate Variance V[X]\n",
    "price_variance = np.var(transaction_prices)\n",
    "\n",
    "# 4. Approximate Lambda (risk aversion parameter)\n",
    "# Assuming we vary E[X] and V[X] slightly to approximate ΔE[X] and ΔV[X]\n",
    "# Small perturbation in bid-ask spread to simulate change\n",
    "epsilon = 0.001\n",
    "perturbed_transaction_prices = prices + (signs * (bid_ask_spread + epsilon) / 2)\n",
    "\n",
    "perturbed_expected_loss = np.mean(perturbed_transaction_prices - prices[0])\n",
    "perturbed_variance = np.var(perturbed_transaction_prices)\n",
    "\n",
    "# Compute changes ΔE[X] and ΔV[X]\n",
    "delta_e = perturbed_expected_loss - expected_loss\n",
    "delta_v = perturbed_variance - price_variance\n",
    "\n",
    "lambda_value = delta_e / delta_v\n",
    "print(f\"Risk aversion parameter (lambda): {lambda_value:.6f}\")\n",
    "    \n",
    "# Display key results\n",
    "print(f\"Expected Loss E[X]: {expected_loss:.6f}\")\n",
    "print(f\"Variance V[X]: {price_variance:.6f}\")\n",
    "print(f\"Perturbed E[X]: {perturbed_expected_loss:.6f}\")\n",
    "print(f\"Perturbed V[X]: {perturbed_variance:.6f}\")"
   ]
  },
  {
   "cell_type": "code",
   "execution_count": 110,
   "id": "d7803bab-64c5-4ac1-a295-29f558d2c24b",
   "metadata": {},
   "outputs": [
    {
     "name": "stdout",
     "output_type": "stream",
     "text": [
      "      transaction date (1=1day=24 hours)  bid-ask spread  \\\n",
      "951                             0.916301          0.0785   \n",
      "952                             0.916762          0.1096   \n",
      "953                             0.917134          0.1041   \n",
      "954                             0.917271          0.1120   \n",
      "955                             0.918184          0.0938   \n",
      "956                             0.918653          0.1088   \n",
      "957                             0.923078          0.0810   \n",
      "958                             0.929094          0.1024   \n",
      "959                             0.930431          0.1191   \n",
      "960                             0.931346          0.0919   \n",
      "961                             0.937891          0.1073   \n",
      "962                             0.939040          0.0954   \n",
      "963                             0.939135          0.0971   \n",
      "964                             0.939394          0.1136   \n",
      "965                             0.940877          0.0919   \n",
      "966                             0.941640          0.1109   \n",
      "967                             0.941728          0.0940   \n",
      "968                             0.941970          0.0994   \n",
      "969                             0.943302          0.1042   \n",
      "970                             0.945044          0.0923   \n",
      "971                             0.946178          0.1123   \n",
      "972                             0.947767          0.0938   \n",
      "973                             0.948228          0.1085   \n",
      "974                             0.949828          0.1288   \n",
      "975                             0.950144          0.0923   \n",
      "976                             0.950701          0.0951   \n",
      "977                             0.951010          0.1121   \n",
      "978                             0.954066          0.1133   \n",
      "979                             0.954771          0.0818   \n",
      "980                             0.958005          0.0884   \n",
      "981                             0.961452          0.0965   \n",
      "982                             0.962166          0.1165   \n",
      "983                             0.964938          0.1059   \n",
      "984                             0.965439          0.1087   \n",
      "985                             0.965569          0.0946   \n",
      "986                             0.966246          0.0986   \n",
      "987                             0.966486          0.0960   \n",
      "988                             0.968804          0.0896   \n",
      "989                             0.969113          0.1105   \n",
      "990                             0.971882          0.0929   \n",
      "991                             0.974563          0.0850   \n",
      "992                             0.975143          0.1273   \n",
      "993                             0.976567          0.0996   \n",
      "994                             0.978903          0.1134   \n",
      "995                             0.979738          0.0930   \n",
      "996                             0.981441          0.0834   \n",
      "997                             0.981875          0.1010   \n",
      "998                             0.986784          0.1007   \n",
      "999                             0.991232          0.1153   \n",
      "1000                            0.992002          0.1045   \n",
      "\n",
      "      volume of the transaction (if known)  Sign of the transaction  \\\n",
      "951                                     88                        1   \n",
      "952                                     82                       -1   \n",
      "953                                     32                        1   \n",
      "954                                    104                       -1   \n",
      "955                                    103                        1   \n",
      "956                                      4                       -1   \n",
      "957                                     92                        1   \n",
      "958                                     95                       -1   \n",
      "959                                    127                        1   \n",
      "960                                    101                        1   \n",
      "961                                    116                        1   \n",
      "962                                     87                       -1   \n",
      "963                                     90                       -1   \n",
      "964                                    694                        1   \n",
      "965                                     98                        1   \n",
      "966                                    115                        1   \n",
      "967                                     99                        1   \n",
      "968                                    205                       -1   \n",
      "969                                    110                        1   \n",
      "970                                     82                       -1   \n",
      "971                                    101                       -1   \n",
      "972                                    102                        1   \n",
      "973                                    115                        1   \n",
      "974                                    133                        1   \n",
      "975                                     98                        1   \n",
      "976                                    213                       -1   \n",
      "977                                    119                        1   \n",
      "978                                    102                       -1   \n",
      "979                                     91                        1   \n",
      "980                                     81                       -1   \n",
      "981                                     89                       -1   \n",
      "982                                     65                        1   \n",
      "983                                     42                       -1   \n",
      "984                                    117                        1   \n",
      "985                                     87                       -1   \n",
      "986                                    107                        1   \n",
      "987                                    101                        1   \n",
      "988                                     14                       -1   \n",
      "989                                    150                       -1   \n",
      "990                                     17                       -1   \n",
      "991                                     90                        1   \n",
      "992                                    112                       -1   \n",
      "993                                     87                       -1   \n",
      "994                                    101                       -1   \n",
      "995                                     99                        1   \n",
      "996                                     79                        1   \n",
      "997                                     88                       -1   \n",
      "998                                     90                       -1   \n",
      "999                                      3                       -1   \n",
      "1000                                   111                        1   \n",
      "\n",
      "      Price (before transaction)  \n",
      "951                      100.799  \n",
      "952                      100.820  \n",
      "953                      100.749  \n",
      "954                      100.789  \n",
      "955                      100.769  \n",
      "956                      100.787  \n",
      "957                      100.767  \n",
      "958                      100.777  \n",
      "959                      100.768  \n",
      "960                      100.788  \n",
      "961                      100.801  \n",
      "962                      100.863  \n",
      "963                      100.820  \n",
      "964                      100.720  \n",
      "965                      100.968  \n",
      "966                      100.973  \n",
      "967                      101.027  \n",
      "968                      101.045  \n",
      "969                      100.932  \n",
      "970                      100.985  \n",
      "971                      100.957  \n",
      "972                      100.868  \n",
      "973                      100.885  \n",
      "974                      100.951  \n",
      "975                      100.986  \n",
      "976                      100.991  \n",
      "977                      100.883  \n",
      "978                      100.949  \n",
      "979                      100.861  \n",
      "980                      100.887  \n",
      "981                      100.870  \n",
      "982                      100.831  \n",
      "983                      100.890  \n",
      "984                      100.845  \n",
      "985                      100.890  \n",
      "986                      100.869  \n",
      "987                      101.050  \n",
      "988                      101.206  \n",
      "989                      101.184  \n",
      "990                      101.083  \n",
      "991                      101.058  \n",
      "992                      101.135  \n",
      "993                      101.104  \n",
      "994                      101.031  \n",
      "995                      101.000  \n",
      "996                      101.070  \n",
      "997                      101.120  \n",
      "998                      100.998  \n",
      "999                      100.958  \n",
      "1000                     100.948  \n"
     ]
    }
   ],
   "source": [
    "def numerical_second_derivative(df, h=1e-2):\n",
    "    \"\"\"\n",
    "    Estimate second derivative for risk-neutral density q(ST).\n",
    "    \"\"\"\n",
    "    strikes = df['strike'].values\n",
    "    prices = df['option_price'].values\n",
    "    \n",
    "    # Container for second derivatives\n",
    "    second_derivatives = np.zeros(len(strikes))\n",
    "    \n",
    "    # Compute second derivative numerically\n",
    "    for i in range(1, len(strikes) - 1):\n",
    "        second_derivatives[i] = (\n",
    "            (prices[i + 1] - 2 * prices[i] + prices[i - 1]) / ((strikes[i] - strikes[i - 1])**2)\n",
    "        )\n",
    "        \n",
    "    # Set boundary conditions (zeros for simplicity)\n",
    "    second_derivatives[0] = second_derivatives[-1] = 0\n",
    "    \n",
    "    df['q_ST'] = np.exp(0.05) * second_derivatives  # Risk-neutral density\n",
    "    return df\n",
    "\n",
    "# Apply numerical differentiation to estimate q(S_T)\n",
    "data = numerical_second_derivative(data)\n",
    "print(data)\n",
    "\n",
    "# Step 2: CRRA Utility Function\n",
    "def CRRA_utility(ST, gamma):\n",
    "    \"\"\"\n",
    "    CRRA utility function.\n",
    "    \"\"\"\n",
    "    if gamma == 1:\n",
    "        return np.log(ST)\n",
    "    else:\n",
    "        return (ST**(1 - gamma)) / (1 - gamma)\n",
    "\n",
    "# Step 3: Stochastic Discount Factor ζ(S_T)\n",
    "def stochastic_discount_factor(ST, St, gamma, lambda_):\n",
    "    \"\"\"\n",
    "    Compute the stochastic discount factor ζ(S_T).\n",
    "    \"\"\"\n",
    "    return lambda_ * (CRRA_utility(ST, gamma) / CRRA_utility(St, gamma))\n",
    "\n",
    "# Step 4: Physical Density (p) and λ Optimization\n",
    "def physical_density(q, ST, St, gamma, lambda_):\n",
    "    \"\"\"\n",
    "    Compute physical density using the relationship between p and q.\n",
    "    \"\"\"\n",
    "    return lambda_ * q * (CRRA_utility(ST, gamma) / CRRA_utility(St, gamma))\n",
    "\n",
    "def calibrate_lambda(data, St, gamma):\n",
    "    \"\"\"\n",
    "    Find the value of λ that optimizes the fit of p.\n",
    "    \"\"\"\n",
    "    def loss_function(lambda_, data, St, gamma):\n",
    "        # Compute the physical density\n",
    "        q = data['q_ST'].values\n",
    "        strikes = data['strike'].values\n",
    "        p = physical_density(q, strikes, St, gamma, lambda_)\n",
    "        \n",
    "        # Return a basic loss function (negative log-likelihood, simplified)\n",
    "        return -np.sum(np.log(np.maximum(p, 1e-10)))\n",
    "    \n",
    "    # Grid search for simplicity (replace with more sophisticated optimization if needed)\n",
    "    lambda_grid = np.linspace(0.1, 10, 100)  # Test λ in a reasonable range\n",
    "    losses = [loss_function(lmb, data, St, gamma) for lmb in lambda_grid]\n",
    "    optimal_lambda = lambda_grid[np.argmin(losses)]\n",
    "    \n",
    "    return optimal_lambda\n",
    "\n",
    "# Example usage with sample data\n",
    "gamma = 2  # Risk aversion coefficient\n",
    "St = 100  # Current stock price (same as central strike here)\n",
    "\n",
    "# Calibrate λ\n",
    "lambda_optimal = calibrate_lambda(data, St, gamma)\n",
    "print(f\"Optimal λ: {lambda_optimal}\")"
   ]
  },
  {
   "cell_type": "markdown",
   "id": "698eeffa-6e3c-4151-a55d-1c066d58895a",
   "metadata": {},
   "source": [
    "### b) \n",
    "In the framework of Almgren and Chriss, what is your liquidation strategy (we recall that you can\n",
    "only make transactions once every hour). "
   ]
  },
  {
   "cell_type": "markdown",
   "id": "a5eae8e3-0306-43f9-9244-ed9a767aea78",
   "metadata": {
    "jp-MarkdownHeadingCollapsed": true
   },
   "source": [
    "## Question E (Q2 and Q3 of TD5)\n",
    "\n",
    "### b)\n",
    "Calculate the Hurst exponent of GBPEUR, SEKEUR, and CADEUR. Determine their annualized\n",
    "volatility using the daily volatility and Hurst exponents. \n"
   ]
  },
  {
   "cell_type": "code",
   "execution_count": 46,
   "id": "9e920794-9984-48e8-b8cb-5562d6d3af06",
   "metadata": {},
   "outputs": [
    {
     "name": "stdout",
     "output_type": "stream",
     "text": [
      "(12929, 11)\n",
      "Date           object\n",
      "HIGH           object\n",
      "LOW            object\n",
      "Unnamed: 3    float64\n",
      "Date.1         object\n",
      "HIGH.1         object\n",
      "LOW.1          object\n",
      "Unnamed: 7    float64\n",
      "Date.2         object\n",
      "HIGH.2         object\n",
      "LOW.2          object\n",
      "dtype: object\n"
     ]
    }
   ],
   "source": [
    "df = pd.read_csv(\"Dataset TD5.csv\", delimiter=';', skiprows=1)\n",
    "print(df.shape)\n",
    "print(df.dtypes)"
   ]
  },
  {
   "cell_type": "code",
   "execution_count": 47,
   "id": "b18c2938-1158-4617-bba5-4abcb0ce604d",
   "metadata": {},
   "outputs": [
    {
     "name": "stdout",
     "output_type": "stream",
     "text": [
      "          Date_GBPEUR  High_GBPEUR  Low_GBPEUR         Date_SEKEUR  \\\n",
      "0 2016-03-07 09:00:00       1.2932      1.2917 2016-03-07 09:00:00   \n",
      "1 2016-03-07 09:15:00       1.2940      1.2930 2016-03-07 09:15:00   \n",
      "2 2016-03-07 09:30:00       1.2943      1.2922 2016-03-07 09:30:00   \n",
      "3 2016-03-07 09:45:00       1.2930      1.2913 2016-03-07 09:45:00   \n",
      "4 2016-03-07 10:00:00       1.2931      1.2921 2016-03-07 10:00:00   \n",
      "\n",
      "   High_SEKEUR  Low_SEKEUR         Date_CADEUR  High_CADEUR  Low_CADEUR  \n",
      "0      0.10725     0.10720 2016-03-07 09:00:00       0.6842      0.6829  \n",
      "1      0.10728     0.10717 2016-03-07 09:15:00       0.6849      0.6841  \n",
      "2      0.10726     0.10719 2016-03-07 09:30:00       0.6844      0.6837  \n",
      "3      0.10728     0.10721 2016-03-07 09:45:00       0.6844      0.6839  \n",
      "4      0.10725     0.10719 2016-03-07 10:00:00       0.6840      0.6835  \n"
     ]
    }
   ],
   "source": [
    "df.columns = ['Date_GBPEUR', 'High_GBPEUR', 'Low_GBPEUR', 'NaN1', 'Date_SEKEUR', 'High_SEKEUR', 'Low_SEKEUR', 'NaN2', 'Date_CADEUR', 'High_CADEUR', 'Low_CADEUR']\n",
    "\n",
    "df_cleaned = df.drop(columns=['NaN1', 'NaN2'])\n",
    "\n",
    "df_cleaned['Date_GBPEUR'] = pd.to_datetime(df_cleaned['Date_GBPEUR'], format='%d/%m/%Y %H:%M', errors='coerce')\n",
    "df_cleaned['Date_SEKEUR'] = pd.to_datetime(df_cleaned['Date_SEKEUR'], format='%d/%m/%Y %H:%M', errors='coerce')\n",
    "df_cleaned['Date_CADEUR'] = pd.to_datetime(df_cleaned['Date_CADEUR'], format='%d/%m/%Y %H:%M', errors='coerce')\n",
    "\n",
    "for col in df_cleaned.select_dtypes(include=['object']).columns:\n",
    "    df_cleaned[col] = df_cleaned[col].str.replace(',', '.', regex=False).astype(float, errors='ignore')\n",
    "\n",
    "df = df_cleaned.copy()\n",
    "\n",
    "print(df.head())"
   ]
  },
  {
   "cell_type": "code",
   "execution_count": 48,
   "id": "ef4d53f8-b057-4442-8e3e-a30e115d3b28",
   "metadata": {},
   "outputs": [
    {
     "data": {
      "text/html": [
       "<div>\n",
       "<style scoped>\n",
       "    .dataframe tbody tr th:only-of-type {\n",
       "        vertical-align: middle;\n",
       "    }\n",
       "\n",
       "    .dataframe tbody tr th {\n",
       "        vertical-align: top;\n",
       "    }\n",
       "\n",
       "    .dataframe thead th {\n",
       "        text-align: right;\n",
       "    }\n",
       "</style>\n",
       "<table border=\"1\" class=\"dataframe\">\n",
       "  <thead>\n",
       "    <tr style=\"text-align: right;\">\n",
       "      <th></th>\n",
       "      <th>Date_GBPEUR</th>\n",
       "      <th>High_GBPEUR</th>\n",
       "      <th>Low_GBPEUR</th>\n",
       "      <th>Date_SEKEUR</th>\n",
       "      <th>High_SEKEUR</th>\n",
       "      <th>Low_SEKEUR</th>\n",
       "      <th>Date_CADEUR</th>\n",
       "      <th>High_CADEUR</th>\n",
       "      <th>Low_CADEUR</th>\n",
       "      <th>PRICE_GBPEUR</th>\n",
       "      <th>PRICE_SEKEUR</th>\n",
       "      <th>PRICE_CADEUR</th>\n",
       "    </tr>\n",
       "  </thead>\n",
       "  <tbody>\n",
       "    <tr>\n",
       "      <th>0</th>\n",
       "      <td>2016-03-07 09:00:00</td>\n",
       "      <td>1.2932</td>\n",
       "      <td>1.2917</td>\n",
       "      <td>2016-03-07 09:00:00</td>\n",
       "      <td>0.10725</td>\n",
       "      <td>0.10720</td>\n",
       "      <td>2016-03-07 09:00:00</td>\n",
       "      <td>0.6842</td>\n",
       "      <td>0.6829</td>\n",
       "      <td>1.29245</td>\n",
       "      <td>0.107225</td>\n",
       "      <td>0.68355</td>\n",
       "    </tr>\n",
       "    <tr>\n",
       "      <th>1</th>\n",
       "      <td>2016-03-07 09:15:00</td>\n",
       "      <td>1.2940</td>\n",
       "      <td>1.2930</td>\n",
       "      <td>2016-03-07 09:15:00</td>\n",
       "      <td>0.10728</td>\n",
       "      <td>0.10717</td>\n",
       "      <td>2016-03-07 09:15:00</td>\n",
       "      <td>0.6849</td>\n",
       "      <td>0.6841</td>\n",
       "      <td>1.29350</td>\n",
       "      <td>0.107225</td>\n",
       "      <td>0.68450</td>\n",
       "    </tr>\n",
       "    <tr>\n",
       "      <th>2</th>\n",
       "      <td>2016-03-07 09:30:00</td>\n",
       "      <td>1.2943</td>\n",
       "      <td>1.2922</td>\n",
       "      <td>2016-03-07 09:30:00</td>\n",
       "      <td>0.10726</td>\n",
       "      <td>0.10719</td>\n",
       "      <td>2016-03-07 09:30:00</td>\n",
       "      <td>0.6844</td>\n",
       "      <td>0.6837</td>\n",
       "      <td>1.29325</td>\n",
       "      <td>0.107225</td>\n",
       "      <td>0.68405</td>\n",
       "    </tr>\n",
       "    <tr>\n",
       "      <th>3</th>\n",
       "      <td>2016-03-07 09:45:00</td>\n",
       "      <td>1.2930</td>\n",
       "      <td>1.2913</td>\n",
       "      <td>2016-03-07 09:45:00</td>\n",
       "      <td>0.10728</td>\n",
       "      <td>0.10721</td>\n",
       "      <td>2016-03-07 09:45:00</td>\n",
       "      <td>0.6844</td>\n",
       "      <td>0.6839</td>\n",
       "      <td>1.29215</td>\n",
       "      <td>0.107245</td>\n",
       "      <td>0.68415</td>\n",
       "    </tr>\n",
       "    <tr>\n",
       "      <th>4</th>\n",
       "      <td>2016-03-07 10:00:00</td>\n",
       "      <td>1.2931</td>\n",
       "      <td>1.2921</td>\n",
       "      <td>2016-03-07 10:00:00</td>\n",
       "      <td>0.10725</td>\n",
       "      <td>0.10719</td>\n",
       "      <td>2016-03-07 10:00:00</td>\n",
       "      <td>0.6840</td>\n",
       "      <td>0.6835</td>\n",
       "      <td>1.29260</td>\n",
       "      <td>0.107220</td>\n",
       "      <td>0.68375</td>\n",
       "    </tr>\n",
       "  </tbody>\n",
       "</table>\n",
       "</div>"
      ],
      "text/plain": [
       "          Date_GBPEUR  High_GBPEUR  Low_GBPEUR         Date_SEKEUR  \\\n",
       "0 2016-03-07 09:00:00       1.2932      1.2917 2016-03-07 09:00:00   \n",
       "1 2016-03-07 09:15:00       1.2940      1.2930 2016-03-07 09:15:00   \n",
       "2 2016-03-07 09:30:00       1.2943      1.2922 2016-03-07 09:30:00   \n",
       "3 2016-03-07 09:45:00       1.2930      1.2913 2016-03-07 09:45:00   \n",
       "4 2016-03-07 10:00:00       1.2931      1.2921 2016-03-07 10:00:00   \n",
       "\n",
       "   High_SEKEUR  Low_SEKEUR         Date_CADEUR  High_CADEUR  Low_CADEUR  \\\n",
       "0      0.10725     0.10720 2016-03-07 09:00:00       0.6842      0.6829   \n",
       "1      0.10728     0.10717 2016-03-07 09:15:00       0.6849      0.6841   \n",
       "2      0.10726     0.10719 2016-03-07 09:30:00       0.6844      0.6837   \n",
       "3      0.10728     0.10721 2016-03-07 09:45:00       0.6844      0.6839   \n",
       "4      0.10725     0.10719 2016-03-07 10:00:00       0.6840      0.6835   \n",
       "\n",
       "   PRICE_GBPEUR  PRICE_SEKEUR  PRICE_CADEUR  \n",
       "0       1.29245      0.107225       0.68355  \n",
       "1       1.29350      0.107225       0.68450  \n",
       "2       1.29325      0.107225       0.68405  \n",
       "3       1.29215      0.107245       0.68415  \n",
       "4       1.29260      0.107220       0.68375  "
      ]
     },
     "execution_count": 48,
     "metadata": {},
     "output_type": "execute_result"
    }
   ],
   "source": [
    "df[\"PRICE_GBPEUR\"]=(df[\"High_GBPEUR\"]+df[\"Low_GBPEUR\"])/2\n",
    "df[\"PRICE_SEKEUR\"]=(df[\"High_SEKEUR\"]+df[\"Low_SEKEUR\"])/2\n",
    "df[\"PRICE_CADEUR\"]=(df[\"High_CADEUR\"]+df[\"Low_CADEUR\"])/2\n",
    "df.head()"
   ]
  },
  {
   "cell_type": "code",
   "execution_count": 61,
   "id": "c42b61ef-e88b-4dc8-aa5a-ef95fcb558a5",
   "metadata": {},
   "outputs": [],
   "source": [
    "import math\n",
    "def momentum_hurst(price):\n",
    "    price=pd.DataFrame(price)\n",
    "    M2=np.nansum(((price-price.shift())**2)[1::1])/len(price)\n",
    "    M2p=np.nansum(((price-price.shift(2))**2)[2::2])/len(price)*2\n",
    "    H=math.log(M2p/M2,2)/2\n",
    "    return H"
   ]
  },
  {
   "cell_type": "code",
   "execution_count": 62,
   "id": "d86d719e-8640-4074-942e-f73341ce58ef",
   "metadata": {},
   "outputs": [],
   "source": [
    "H_GBP=momentum_hurst(df[\"PRICE_GBPEUR\"])\n",
    "H_SEK=momentum_hurst(df[\"PRICE_SEKEUR\"])\n",
    "H_CAD=momentum_hurst(df[\"PRICE_CADEUR\"])"
   ]
  },
  {
   "cell_type": "code",
   "execution_count": 63,
   "id": "7d471bad-53fa-484d-826f-57541ea67073",
   "metadata": {},
   "outputs": [
    {
     "name": "stdout",
     "output_type": "stream",
     "text": [
      "H GBP: 0.6714143303551515\n",
      "H SEK: 0.6545913434210177\n",
      "H CAD: 0.6552439913405976\n"
     ]
    }
   ],
   "source": [
    "print(\"H GBP:\",H_GBP)\n",
    "print(\"H SEK:\",H_SEK)\n",
    "print(\"H CAD:\",H_CAD)"
   ]
  },
  {
   "cell_type": "code",
   "execution_count": 64,
   "id": "404f5745-7b4b-4ee2-bc82-71d9de057a47",
   "metadata": {},
   "outputs": [
    {
     "data": {
      "text/html": [
       "<div>\n",
       "<style scoped>\n",
       "    .dataframe tbody tr th:only-of-type {\n",
       "        vertical-align: middle;\n",
       "    }\n",
       "\n",
       "    .dataframe tbody tr th {\n",
       "        vertical-align: top;\n",
       "    }\n",
       "\n",
       "    .dataframe thead th {\n",
       "        text-align: right;\n",
       "    }\n",
       "</style>\n",
       "<table border=\"1\" class=\"dataframe\">\n",
       "  <thead>\n",
       "    <tr style=\"text-align: right;\">\n",
       "      <th></th>\n",
       "      <th>Date_GBPEUR</th>\n",
       "      <th>High_GBPEUR</th>\n",
       "      <th>Low_GBPEUR</th>\n",
       "      <th>Date_SEKEUR</th>\n",
       "      <th>High_SEKEUR</th>\n",
       "      <th>Low_SEKEUR</th>\n",
       "      <th>Date_CADEUR</th>\n",
       "      <th>High_CADEUR</th>\n",
       "      <th>Low_CADEUR</th>\n",
       "      <th>PRICE_GBPEUR</th>\n",
       "      <th>PRICE_SEKEUR</th>\n",
       "      <th>PRICE_CADEUR</th>\n",
       "      <th>RET_GBPEUR</th>\n",
       "      <th>RET_SEKEUR</th>\n",
       "      <th>RET_CADEUR</th>\n",
       "    </tr>\n",
       "  </thead>\n",
       "  <tbody>\n",
       "    <tr>\n",
       "      <th>0</th>\n",
       "      <td>2016-03-07 09:00:00</td>\n",
       "      <td>1.2932</td>\n",
       "      <td>1.2917</td>\n",
       "      <td>2016-03-07 09:00:00</td>\n",
       "      <td>0.10725</td>\n",
       "      <td>0.10720</td>\n",
       "      <td>2016-03-07 09:00:00</td>\n",
       "      <td>0.6842</td>\n",
       "      <td>0.6829</td>\n",
       "      <td>1.29245</td>\n",
       "      <td>0.107225</td>\n",
       "      <td>0.68355</td>\n",
       "      <td>NaN</td>\n",
       "      <td>NaN</td>\n",
       "      <td>NaN</td>\n",
       "    </tr>\n",
       "    <tr>\n",
       "      <th>1</th>\n",
       "      <td>2016-03-07 09:15:00</td>\n",
       "      <td>1.2940</td>\n",
       "      <td>1.2930</td>\n",
       "      <td>2016-03-07 09:15:00</td>\n",
       "      <td>0.10728</td>\n",
       "      <td>0.10717</td>\n",
       "      <td>2016-03-07 09:15:00</td>\n",
       "      <td>0.6849</td>\n",
       "      <td>0.6841</td>\n",
       "      <td>1.29350</td>\n",
       "      <td>0.107225</td>\n",
       "      <td>0.68450</td>\n",
       "      <td>0.000812</td>\n",
       "      <td>0.000000e+00</td>\n",
       "      <td>0.001390</td>\n",
       "    </tr>\n",
       "    <tr>\n",
       "      <th>2</th>\n",
       "      <td>2016-03-07 09:30:00</td>\n",
       "      <td>1.2943</td>\n",
       "      <td>1.2922</td>\n",
       "      <td>2016-03-07 09:30:00</td>\n",
       "      <td>0.10726</td>\n",
       "      <td>0.10719</td>\n",
       "      <td>2016-03-07 09:30:00</td>\n",
       "      <td>0.6844</td>\n",
       "      <td>0.6837</td>\n",
       "      <td>1.29325</td>\n",
       "      <td>0.107225</td>\n",
       "      <td>0.68405</td>\n",
       "      <td>-0.000193</td>\n",
       "      <td>-1.294268e-16</td>\n",
       "      <td>-0.000657</td>\n",
       "    </tr>\n",
       "    <tr>\n",
       "      <th>3</th>\n",
       "      <td>2016-03-07 09:45:00</td>\n",
       "      <td>1.2930</td>\n",
       "      <td>1.2913</td>\n",
       "      <td>2016-03-07 09:45:00</td>\n",
       "      <td>0.10728</td>\n",
       "      <td>0.10721</td>\n",
       "      <td>2016-03-07 09:45:00</td>\n",
       "      <td>0.6844</td>\n",
       "      <td>0.6839</td>\n",
       "      <td>1.29215</td>\n",
       "      <td>0.107245</td>\n",
       "      <td>0.68415</td>\n",
       "      <td>-0.000851</td>\n",
       "      <td>1.865237e-04</td>\n",
       "      <td>0.000146</td>\n",
       "    </tr>\n",
       "    <tr>\n",
       "      <th>4</th>\n",
       "      <td>2016-03-07 10:00:00</td>\n",
       "      <td>1.2931</td>\n",
       "      <td>1.2921</td>\n",
       "      <td>2016-03-07 10:00:00</td>\n",
       "      <td>0.10725</td>\n",
       "      <td>0.10719</td>\n",
       "      <td>2016-03-07 10:00:00</td>\n",
       "      <td>0.6840</td>\n",
       "      <td>0.6835</td>\n",
       "      <td>1.29260</td>\n",
       "      <td>0.107220</td>\n",
       "      <td>0.68375</td>\n",
       "      <td>0.000348</td>\n",
       "      <td>-2.331111e-04</td>\n",
       "      <td>-0.000585</td>\n",
       "    </tr>\n",
       "  </tbody>\n",
       "</table>\n",
       "</div>"
      ],
      "text/plain": [
       "          Date_GBPEUR  High_GBPEUR  Low_GBPEUR         Date_SEKEUR  \\\n",
       "0 2016-03-07 09:00:00       1.2932      1.2917 2016-03-07 09:00:00   \n",
       "1 2016-03-07 09:15:00       1.2940      1.2930 2016-03-07 09:15:00   \n",
       "2 2016-03-07 09:30:00       1.2943      1.2922 2016-03-07 09:30:00   \n",
       "3 2016-03-07 09:45:00       1.2930      1.2913 2016-03-07 09:45:00   \n",
       "4 2016-03-07 10:00:00       1.2931      1.2921 2016-03-07 10:00:00   \n",
       "\n",
       "   High_SEKEUR  Low_SEKEUR         Date_CADEUR  High_CADEUR  Low_CADEUR  \\\n",
       "0      0.10725     0.10720 2016-03-07 09:00:00       0.6842      0.6829   \n",
       "1      0.10728     0.10717 2016-03-07 09:15:00       0.6849      0.6841   \n",
       "2      0.10726     0.10719 2016-03-07 09:30:00       0.6844      0.6837   \n",
       "3      0.10728     0.10721 2016-03-07 09:45:00       0.6844      0.6839   \n",
       "4      0.10725     0.10719 2016-03-07 10:00:00       0.6840      0.6835   \n",
       "\n",
       "   PRICE_GBPEUR  PRICE_SEKEUR  PRICE_CADEUR  RET_GBPEUR    RET_SEKEUR  \\\n",
       "0       1.29245      0.107225       0.68355         NaN           NaN   \n",
       "1       1.29350      0.107225       0.68450    0.000812  0.000000e+00   \n",
       "2       1.29325      0.107225       0.68405   -0.000193 -1.294268e-16   \n",
       "3       1.29215      0.107245       0.68415   -0.000851  1.865237e-04   \n",
       "4       1.29260      0.107220       0.68375    0.000348 -2.331111e-04   \n",
       "\n",
       "   RET_CADEUR  \n",
       "0         NaN  \n",
       "1    0.001390  \n",
       "2   -0.000657  \n",
       "3    0.000146  \n",
       "4   -0.000585  "
      ]
     },
     "execution_count": 64,
     "metadata": {},
     "output_type": "execute_result"
    }
   ],
   "source": [
    "def ret(price):\n",
    "    return (price-price.shift())/price.shift()\n",
    "df[\"RET_GBPEUR\"]=ret(df[\"PRICE_GBPEUR\"])\n",
    "df[\"RET_SEKEUR\"]=ret(df[\"PRICE_SEKEUR\"])\n",
    "df[\"RET_CADEUR\"]=ret(df[\"PRICE_CADEUR\"])\n",
    "df.head()"
   ]
  },
  {
   "cell_type": "code",
   "execution_count": 65,
   "id": "8410c196-24df-4a88-860a-1766870d8598",
   "metadata": {},
   "outputs": [
    {
     "name": "stdout",
     "output_type": "stream",
     "text": [
      "Vol GBP: 0.3038381322850969\n",
      "Vol SEK: 0.1365637719012523\n",
      "Vol CAD: 0.2126260606541429\n"
     ]
    }
   ],
   "source": [
    "vol_15m_GBP=np.std(df[\"RET_GBPEUR\"])\n",
    "vol_15m_SEK=np.std(df[\"RET_SEKEUR\"])\n",
    "vol_15m_CAD=np.std(df[\"RET_CADEUR\"])\n",
    "\n",
    "#24h of trading a day for currencies\n",
    "vol_1Y_GBP=vol_15m_GBP*(252*10*4)**H_GBP\n",
    "vol_1Y_SEK=vol_15m_SEK*(252*10*4)**H_SEK\n",
    "vol_1Y_CAD=vol_15m_CAD*(252*10*4)**H_CAD\n",
    "\n",
    "print(\"Vol GBP:\",vol_1Y_GBP)\n",
    "print(\"Vol SEK:\",vol_1Y_SEK)\n",
    "print(\"Vol CAD:\",vol_1Y_CAD)"
   ]
  },
  {
   "cell_type": "markdown",
   "id": "b06e5f1c-e691-476c-8fb6-6c8616b15de3",
   "metadata": {},
   "source": [
    "The scaling function is $$ \\phi = 1_{[0,1)} $$\n",
    "\n",
    "The approximation of daily returns $r_t$ at the $2^j$ scale, i.e. \n",
    "\n",
    "$$\n",
    "\\sum_{k \\in \\mathbb{Z}} \\langle r, \\varphi_{j,k} \\rangle \\varphi_{j,k}(t)\n",
    "$$\n",
    "\n",
    "is therefore based on returns of horizon $2^j$ calculated each day, with overlap.\n",
    "\n",
    "The Haar wavelet corresponds to the Daubechies wavelet with zero vanishing moments:\n",
    "$$\n",
    "\\Psi_{\\text{Haar}} : t \\in \\mathbb{R} \\mapsto 1_{[0,1/2)}(t) - 1_{[1/2,1)}(t).\n",
    "$$\n",
    "\n",
    "From a mother wavelet, one can derive wavelet functions:\n",
    "$$\n",
    "\\psi_{j,k} : t \\in \\mathbb{R} \\mapsto 2^{j/2} \\Psi \\left( 2^j t - k \\right).\n",
    "$$\n"
   ]
  },
  {
   "cell_type": "markdown",
   "id": "8b6fcd1c-0afe-4b31-9dab-70bedc7b956c",
   "metadata": {},
   "source": [
    "### a)\n",
    "With Haar wavelets and the dataset provided with TD5, determine the multiresolution correlation\n",
    "between all the pairs of FX rates, using GBPEUR, SEKEUR, and CADEUR (work with the average between\n",
    "the highest and the lowest price and transform this average price in returns on the smallest time step).\n",
    "Do you observe an Epps effect and how could you explain this?"
   ]
  },
  {
   "cell_type": "code",
   "execution_count": 66,
   "id": "2c0a6a76-2ec9-4213-965c-6dc297b33bf7",
   "metadata": {},
   "outputs": [],
   "source": [
    "def phi(t):\n",
    "    return 1 if (0<=t and t<1) else 0\n",
    "\n",
    "def phi_jk(t, j, k):\n",
    "    return phi((2**j)*t-k)\n",
    "\n",
    "def psi(t):\n",
    "    return 1 if (0<=t and t<1/2) else -1 if (1/2<=t and t<1) else 0\n",
    "\n",
    "def psi_jk(t, j, k):\n",
    "    return 2**(j/2)*psi((2**j)*t-k)"
   ]
  },
  {
   "cell_type": "markdown",
   "id": "8d4e0647-0950-42e9-a4fb-e243d60a8f0c",
   "metadata": {},
   "source": [
    "In this case, we are only able to calculate an empirical wavelet coefficient, which is defined by an empirical integral on a discrete grid :\n",
    "\n",
    "$$\n",
    "\\hat{z}_{\\text{empirical}}^{j,k} = \\sum_{n=1}^{N} z(u_n) \\psi_{j,k}(u_n) (u_n - u_{n-1})\n",
    "$$"
   ]
  },
  {
   "cell_type": "code",
   "execution_count": 67,
   "id": "6d8a4d3c-9c17-49af-a47d-8e2d5525af95",
   "metadata": {},
   "outputs": [],
   "source": [
    "def wavelet_coeff(z, j, k):\n",
    "    return sum([z[i]*psi_jk(i,j,k) for i in range(len(z))])\n",
    "\n",
    "def scaling_coeff(z, j, k):\n",
    "    if k%1000==0: print(k)\n",
    "    return sum([z[i]*phi_jk(i,j,k) for i in range(len(z))])"
   ]
  },
  {
   "cell_type": "markdown",
   "id": "594a4138-7a95-47a1-8dac-7701afd98269",
   "metadata": {},
   "source": [
    "The covariance $Cov(j)$ is given by:\n",
    "\n",
    "$$\n",
    "\\text{Cov}(j) = \\frac{1}{T} \\sum_{k=1}^{T} c_1(j,k) - \\frac{1}{T} \\sum_{l=1}^{T} c_1(j,l) \\left( c_2(j,k) - \\frac{1}{T} \\sum_{l=1}^{T} c_2(j,l) \\right).\n",
    "$$"
   ]
  },
  {
   "cell_type": "code",
   "execution_count": 22,
   "id": "5c836b08-6e0f-4530-a875-bda832f218e3",
   "metadata": {},
   "outputs": [],
   "source": [
    "def wavelet_cov(ret1, ret2, j):\n",
    "    m_ret1=sum([scaling_coeff(ret1,j,l) for l in range(1, len(ret1)+1)])/len(ret1)\n",
    "    m_ret2=sum([scaling_coeff(ret2,j,l) for l in range(1, len(ret2)+1)])/len(ret2)\n",
    "    return sum([(scaling_coeff(ret1,j,k)-m_ret1)*(scaling_coeff(ret2,j,k)-m_ret2) for k in range(1, len(ret1)+1)])/len(ret1)"
   ]
  },
  {
   "cell_type": "code",
   "execution_count": 28,
   "id": "e131032d-8226-4e1c-a3a1-75990d969d4b",
   "metadata": {},
   "outputs": [
    {
     "name": "stdout",
     "output_type": "stream",
     "text": [
      "1000\n",
      "2000\n",
      "3000\n",
      "4000\n",
      "5000\n",
      "6000\n",
      "7000\n",
      "8000\n",
      "9000\n",
      "10000\n",
      "11000\n",
      "12000\n",
      "1000\n",
      "2000\n",
      "3000\n",
      "4000\n"
     ]
    },
    {
     "ename": "KeyboardInterrupt",
     "evalue": "",
     "output_type": "error",
     "traceback": [
      "\u001b[0;31m---------------------------------------------------------------------------\u001b[0m",
      "\u001b[0;31mKeyboardInterrupt\u001b[0m                         Traceback (most recent call last)",
      "Cell \u001b[0;32mIn[28], line 1\u001b[0m\n\u001b[0;32m----> 1\u001b[0m \u001b[43mwavelet_cov\u001b[49m\u001b[43m(\u001b[49m\u001b[43mdf\u001b[49m\u001b[43m[\u001b[49m\u001b[38;5;124;43m\"\u001b[39;49m\u001b[38;5;124;43mRET_GBPEUR\u001b[39;49m\u001b[38;5;124;43m\"\u001b[39;49m\u001b[43m]\u001b[49m\u001b[43m,\u001b[49m\u001b[43m \u001b[49m\u001b[43mdf\u001b[49m\u001b[43m[\u001b[49m\u001b[38;5;124;43m\"\u001b[39;49m\u001b[38;5;124;43mRET_GBPEUR\u001b[39;49m\u001b[38;5;124;43m\"\u001b[39;49m\u001b[43m]\u001b[49m\u001b[43m,\u001b[49m\u001b[43m \u001b[49m\u001b[38;5;241;43m0\u001b[39;49m\u001b[43m)\u001b[49m\n",
      "Cell \u001b[0;32mIn[22], line 3\u001b[0m, in \u001b[0;36mwavelet_cov\u001b[0;34m(ret1, ret2, j)\u001b[0m\n\u001b[1;32m      1\u001b[0m \u001b[38;5;28;01mdef\u001b[39;00m \u001b[38;5;21mwavelet_cov\u001b[39m(ret1, ret2, j):\n\u001b[1;32m      2\u001b[0m     m_ret1\u001b[38;5;241m=\u001b[39m\u001b[38;5;28msum\u001b[39m([scaling_coeff(ret1,j,l) \u001b[38;5;28;01mfor\u001b[39;00m l \u001b[38;5;129;01min\u001b[39;00m \u001b[38;5;28mrange\u001b[39m(\u001b[38;5;241m1\u001b[39m, \u001b[38;5;28mlen\u001b[39m(ret1)\u001b[38;5;241m+\u001b[39m\u001b[38;5;241m1\u001b[39m)])\u001b[38;5;241m/\u001b[39m\u001b[38;5;28mlen\u001b[39m(ret1)\n\u001b[0;32m----> 3\u001b[0m     m_ret2\u001b[38;5;241m=\u001b[39m\u001b[38;5;28msum\u001b[39m([scaling_coeff(ret2,j,l) \u001b[38;5;28;01mfor\u001b[39;00m l \u001b[38;5;129;01min\u001b[39;00m \u001b[38;5;28mrange\u001b[39m(\u001b[38;5;241m1\u001b[39m, \u001b[38;5;28mlen\u001b[39m(ret2)\u001b[38;5;241m+\u001b[39m\u001b[38;5;241m1\u001b[39m)])\u001b[38;5;241m/\u001b[39m\u001b[38;5;28mlen\u001b[39m(ret2)\n\u001b[1;32m      4\u001b[0m     \u001b[38;5;28;01mreturn\u001b[39;00m \u001b[38;5;28msum\u001b[39m([(scaling_coeff(ret1,j,k)\u001b[38;5;241m-\u001b[39mm_ret1)\u001b[38;5;241m*\u001b[39m(scaling_coeff(ret2,j,k)\u001b[38;5;241m-\u001b[39mm_ret2) \u001b[38;5;28;01mfor\u001b[39;00m k \u001b[38;5;129;01min\u001b[39;00m \u001b[38;5;28mrange\u001b[39m(\u001b[38;5;241m1\u001b[39m, \u001b[38;5;28mlen\u001b[39m(ret1)\u001b[38;5;241m+\u001b[39m\u001b[38;5;241m1\u001b[39m)])\u001b[38;5;241m/\u001b[39m\u001b[38;5;28mlen\u001b[39m(ret1)\n",
      "Cell \u001b[0;32mIn[22], line 3\u001b[0m, in \u001b[0;36m<listcomp>\u001b[0;34m(.0)\u001b[0m\n\u001b[1;32m      1\u001b[0m \u001b[38;5;28;01mdef\u001b[39;00m \u001b[38;5;21mwavelet_cov\u001b[39m(ret1, ret2, j):\n\u001b[1;32m      2\u001b[0m     m_ret1\u001b[38;5;241m=\u001b[39m\u001b[38;5;28msum\u001b[39m([scaling_coeff(ret1,j,l) \u001b[38;5;28;01mfor\u001b[39;00m l \u001b[38;5;129;01min\u001b[39;00m \u001b[38;5;28mrange\u001b[39m(\u001b[38;5;241m1\u001b[39m, \u001b[38;5;28mlen\u001b[39m(ret1)\u001b[38;5;241m+\u001b[39m\u001b[38;5;241m1\u001b[39m)])\u001b[38;5;241m/\u001b[39m\u001b[38;5;28mlen\u001b[39m(ret1)\n\u001b[0;32m----> 3\u001b[0m     m_ret2\u001b[38;5;241m=\u001b[39m\u001b[38;5;28msum\u001b[39m([\u001b[43mscaling_coeff\u001b[49m\u001b[43m(\u001b[49m\u001b[43mret2\u001b[49m\u001b[43m,\u001b[49m\u001b[43mj\u001b[49m\u001b[43m,\u001b[49m\u001b[43ml\u001b[49m\u001b[43m)\u001b[49m \u001b[38;5;28;01mfor\u001b[39;00m l \u001b[38;5;129;01min\u001b[39;00m \u001b[38;5;28mrange\u001b[39m(\u001b[38;5;241m1\u001b[39m, \u001b[38;5;28mlen\u001b[39m(ret2)\u001b[38;5;241m+\u001b[39m\u001b[38;5;241m1\u001b[39m)])\u001b[38;5;241m/\u001b[39m\u001b[38;5;28mlen\u001b[39m(ret2)\n\u001b[1;32m      4\u001b[0m     \u001b[38;5;28;01mreturn\u001b[39;00m \u001b[38;5;28msum\u001b[39m([(scaling_coeff(ret1,j,k)\u001b[38;5;241m-\u001b[39mm_ret1)\u001b[38;5;241m*\u001b[39m(scaling_coeff(ret2,j,k)\u001b[38;5;241m-\u001b[39mm_ret2) \u001b[38;5;28;01mfor\u001b[39;00m k \u001b[38;5;129;01min\u001b[39;00m \u001b[38;5;28mrange\u001b[39m(\u001b[38;5;241m1\u001b[39m, \u001b[38;5;28mlen\u001b[39m(ret1)\u001b[38;5;241m+\u001b[39m\u001b[38;5;241m1\u001b[39m)])\u001b[38;5;241m/\u001b[39m\u001b[38;5;28mlen\u001b[39m(ret1)\n",
      "Cell \u001b[0;32mIn[21], line 6\u001b[0m, in \u001b[0;36mscaling_coeff\u001b[0;34m(z, j, k)\u001b[0m\n\u001b[1;32m      4\u001b[0m \u001b[38;5;28;01mdef\u001b[39;00m \u001b[38;5;21mscaling_coeff\u001b[39m(z, j, k):\n\u001b[1;32m      5\u001b[0m     \u001b[38;5;28;01mif\u001b[39;00m k\u001b[38;5;241m%\u001b[39m\u001b[38;5;241m1000\u001b[39m\u001b[38;5;241m==\u001b[39m\u001b[38;5;241m0\u001b[39m: \u001b[38;5;28mprint\u001b[39m(k)\n\u001b[0;32m----> 6\u001b[0m     \u001b[38;5;28;01mreturn\u001b[39;00m \u001b[38;5;28msum\u001b[39m([z[i]\u001b[38;5;241m*\u001b[39mphi_jk(i,j,k) \u001b[38;5;28;01mfor\u001b[39;00m i \u001b[38;5;129;01min\u001b[39;00m \u001b[38;5;28mrange\u001b[39m(\u001b[38;5;28mlen\u001b[39m(z))])\n",
      "Cell \u001b[0;32mIn[21], line 6\u001b[0m, in \u001b[0;36m<listcomp>\u001b[0;34m(.0)\u001b[0m\n\u001b[1;32m      4\u001b[0m \u001b[38;5;28;01mdef\u001b[39;00m \u001b[38;5;21mscaling_coeff\u001b[39m(z, j, k):\n\u001b[1;32m      5\u001b[0m     \u001b[38;5;28;01mif\u001b[39;00m k\u001b[38;5;241m%\u001b[39m\u001b[38;5;241m1000\u001b[39m\u001b[38;5;241m==\u001b[39m\u001b[38;5;241m0\u001b[39m: \u001b[38;5;28mprint\u001b[39m(k)\n\u001b[0;32m----> 6\u001b[0m     \u001b[38;5;28;01mreturn\u001b[39;00m \u001b[38;5;28msum\u001b[39m([\u001b[43mz\u001b[49m\u001b[43m[\u001b[49m\u001b[43mi\u001b[49m\u001b[43m]\u001b[49m\u001b[38;5;241m*\u001b[39mphi_jk(i,j,k) \u001b[38;5;28;01mfor\u001b[39;00m i \u001b[38;5;129;01min\u001b[39;00m \u001b[38;5;28mrange\u001b[39m(\u001b[38;5;28mlen\u001b[39m(z))])\n",
      "File \u001b[0;32m~/opt/anaconda3/lib/python3.9/site-packages/pandas/core/series.py:967\u001b[0m, in \u001b[0;36mSeries.__getitem__\u001b[0;34m(self, key)\u001b[0m\n\u001b[1;32m    966\u001b[0m \u001b[38;5;28;01mdef\u001b[39;00m \u001b[38;5;21m__getitem__\u001b[39m(\u001b[38;5;28mself\u001b[39m, key):\n\u001b[0;32m--> 967\u001b[0m     \u001b[43mcheck_deprecated_indexers\u001b[49m\u001b[43m(\u001b[49m\u001b[43mkey\u001b[49m\u001b[43m)\u001b[49m\n\u001b[1;32m    968\u001b[0m     key \u001b[38;5;241m=\u001b[39m com\u001b[38;5;241m.\u001b[39mapply_if_callable(key, \u001b[38;5;28mself\u001b[39m)\n\u001b[1;32m    970\u001b[0m     \u001b[38;5;28;01mif\u001b[39;00m key \u001b[38;5;129;01mis\u001b[39;00m \u001b[38;5;28mEllipsis\u001b[39m:\n",
      "File \u001b[0;32m~/opt/anaconda3/lib/python3.9/site-packages/pandas/core/indexing.py:2671\u001b[0m, in \u001b[0;36mcheck_deprecated_indexers\u001b[0;34m(key)\u001b[0m\n\u001b[1;32m   2658\u001b[0m \u001b[38;5;28;01mif\u001b[39;00m (\n\u001b[1;32m   2659\u001b[0m     \u001b[38;5;28misinstance\u001b[39m(key, \u001b[38;5;28mset\u001b[39m)\n\u001b[1;32m   2660\u001b[0m     \u001b[38;5;129;01mor\u001b[39;00m \u001b[38;5;28misinstance\u001b[39m(key, \u001b[38;5;28mtuple\u001b[39m)\n\u001b[1;32m   2661\u001b[0m     \u001b[38;5;129;01mand\u001b[39;00m \u001b[38;5;28many\u001b[39m(\u001b[38;5;28misinstance\u001b[39m(x, \u001b[38;5;28mset\u001b[39m) \u001b[38;5;28;01mfor\u001b[39;00m x \u001b[38;5;129;01min\u001b[39;00m key)\n\u001b[1;32m   2662\u001b[0m ):\n\u001b[1;32m   2663\u001b[0m     warnings\u001b[38;5;241m.\u001b[39mwarn(\n\u001b[1;32m   2664\u001b[0m         \u001b[38;5;124m\"\u001b[39m\u001b[38;5;124mPassing a set as an indexer is deprecated and will raise in \u001b[39m\u001b[38;5;124m\"\u001b[39m\n\u001b[1;32m   2665\u001b[0m         \u001b[38;5;124m\"\u001b[39m\u001b[38;5;124ma future version. Use a list instead.\u001b[39m\u001b[38;5;124m\"\u001b[39m,\n\u001b[1;32m   2666\u001b[0m         \u001b[38;5;167;01mFutureWarning\u001b[39;00m,\n\u001b[1;32m   2667\u001b[0m         stacklevel\u001b[38;5;241m=\u001b[39mfind_stack_level(),\n\u001b[1;32m   2668\u001b[0m     )\n\u001b[1;32m   2669\u001b[0m \u001b[38;5;28;01mif\u001b[39;00m (\n\u001b[1;32m   2670\u001b[0m     \u001b[38;5;28misinstance\u001b[39m(key, \u001b[38;5;28mdict\u001b[39m)\n\u001b[0;32m-> 2671\u001b[0m     \u001b[38;5;129;01mor\u001b[39;00m \u001b[38;5;28;43misinstance\u001b[39;49m\u001b[43m(\u001b[49m\u001b[43mkey\u001b[49m\u001b[43m,\u001b[49m\u001b[43m \u001b[49m\u001b[38;5;28;43mtuple\u001b[39;49m\u001b[43m)\u001b[49m\n\u001b[1;32m   2672\u001b[0m     \u001b[38;5;129;01mand\u001b[39;00m \u001b[38;5;28many\u001b[39m(\u001b[38;5;28misinstance\u001b[39m(x, \u001b[38;5;28mdict\u001b[39m) \u001b[38;5;28;01mfor\u001b[39;00m x \u001b[38;5;129;01min\u001b[39;00m key)\n\u001b[1;32m   2673\u001b[0m ):\n\u001b[1;32m   2674\u001b[0m     warnings\u001b[38;5;241m.\u001b[39mwarn(\n\u001b[1;32m   2675\u001b[0m         \u001b[38;5;124m\"\u001b[39m\u001b[38;5;124mPassing a dict as an indexer is deprecated and will raise in \u001b[39m\u001b[38;5;124m\"\u001b[39m\n\u001b[1;32m   2676\u001b[0m         \u001b[38;5;124m\"\u001b[39m\u001b[38;5;124ma future version. Use a list instead.\u001b[39m\u001b[38;5;124m\"\u001b[39m,\n\u001b[1;32m   2677\u001b[0m         \u001b[38;5;167;01mFutureWarning\u001b[39;00m,\n\u001b[1;32m   2678\u001b[0m         stacklevel\u001b[38;5;241m=\u001b[39mfind_stack_level(),\n\u001b[1;32m   2679\u001b[0m     )\n",
      "\u001b[0;31mKeyboardInterrupt\u001b[0m: "
     ]
    }
   ],
   "source": [
    "wavelet_cov(df[\"RET_GBPEUR\"], df[\"RET_GBPEUR\"], 0)"
   ]
  },
  {
   "cell_type": "markdown",
   "id": "58135546-5795-4e37-b4f7-e32b00df4849",
   "metadata": {},
   "source": []
  },
  {
   "cell_type": "code",
   "execution_count": null,
   "id": "e5b41478-88af-4aa6-a13f-d5cc8e7bdbc4",
   "metadata": {},
   "outputs": [],
   "source": []
  }
 ],
 "metadata": {
  "kernelspec": {
   "display_name": "Python 3",
   "language": "python",
   "name": "python3"
  },
  "language_info": {
   "codemirror_mode": {
    "name": "ipython",
    "version": 3
   },
   "file_extension": ".py",
   "mimetype": "text/x-python",
   "name": "python",
   "nbconvert_exporter": "python",
   "pygments_lexer": "ipython3",
   "version": "3.11.9"
  }
 },
 "nbformat": 4,
 "nbformat_minor": 5
}
