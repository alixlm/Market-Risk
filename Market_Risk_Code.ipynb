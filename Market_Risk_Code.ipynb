{
 "cells": [
  {
   "cell_type": "markdown",
   "id": "366939d0-89c6-4966-bb4f-a1c8d25e533b",
   "metadata": {},
   "source": [
    "# Market Risk Project"
   ]
  },
  {
   "cell_type": "code",
   "execution_count": 1,
   "id": "9cf739eb-5ab6-49ca-a909-86016d888ede",
   "metadata": {},
   "outputs": [],
   "source": [
    "import numpy as np\n",
    "import pandas as pd\n",
    "import matplotlib.pyplot as plt"
   ]
  },
  {
   "cell_type": "markdown",
   "id": "1bc2d53d-4d5f-494b-acb2-7368f1b82003",
   "metadata": {
    "jp-MarkdownHeadingCollapsed": true
   },
   "source": [
    "## Question A (Ex2, part of Q1 and of Q2 of TD1)\n",
    "\n",
    "### a) From the time series of the daily prices of the stock Natixis between January 2015 and December 2016, provided with TD1, estimate a historical VaR on price returns at a one-day horizon for a given probability level (this probability is a parameter which must be changed easily). You must base your VaR on a non-parametric distribution (logistic Kernel, that is $K$ is the derivative of the logistic function $x \\mapsto \\frac{1}{1 + e^{-x}}$"
   ]
  },
  {
   "cell_type": "markdown",
   "id": "95e32cf5-4845-42cf-a520-fac918008bd5",
   "metadata": {},
   "source": [
    "We import dataset and compute price returns for each of the days"
   ]
  },
  {
   "cell_type": "code",
   "execution_count": 2,
   "id": "2acebb3c-92e2-4fd6-8efd-753fc38625c1",
   "metadata": {},
   "outputs": [
    {
     "name": "stdout",
     "output_type": "stream",
     "text": [
      "(1023, 2)\n"
     ]
    },
    {
     "data": {
      "text/html": [
       "<div>\n",
       "<style scoped>\n",
       "    .dataframe tbody tr th:only-of-type {\n",
       "        vertical-align: middle;\n",
       "    }\n",
       "\n",
       "    .dataframe tbody tr th {\n",
       "        vertical-align: top;\n",
       "    }\n",
       "\n",
       "    .dataframe thead th {\n",
       "        text-align: right;\n",
       "    }\n",
       "</style>\n",
       "<table border=\"1\" class=\"dataframe\">\n",
       "  <thead>\n",
       "    <tr style=\"text-align: right;\">\n",
       "      <th></th>\n",
       "      <th>Date</th>\n",
       "      <th>Price</th>\n",
       "      <th>Returns</th>\n",
       "    </tr>\n",
       "  </thead>\n",
       "  <tbody>\n",
       "    <tr>\n",
       "      <th>1</th>\n",
       "      <td>2015-01-05</td>\n",
       "      <td>5.424</td>\n",
       "      <td>-0.035047</td>\n",
       "    </tr>\n",
       "    <tr>\n",
       "      <th>2</th>\n",
       "      <td>2015-01-06</td>\n",
       "      <td>5.329</td>\n",
       "      <td>-0.017515</td>\n",
       "    </tr>\n",
       "    <tr>\n",
       "      <th>3</th>\n",
       "      <td>2015-01-07</td>\n",
       "      <td>5.224</td>\n",
       "      <td>-0.019704</td>\n",
       "    </tr>\n",
       "    <tr>\n",
       "      <th>4</th>\n",
       "      <td>2015-01-08</td>\n",
       "      <td>5.453</td>\n",
       "      <td>0.043836</td>\n",
       "    </tr>\n",
       "    <tr>\n",
       "      <th>5</th>\n",
       "      <td>2015-01-09</td>\n",
       "      <td>5.340</td>\n",
       "      <td>-0.020723</td>\n",
       "    </tr>\n",
       "    <tr>\n",
       "      <th>...</th>\n",
       "      <td>...</td>\n",
       "      <td>...</td>\n",
       "      <td>...</td>\n",
       "    </tr>\n",
       "    <tr>\n",
       "      <th>1018</th>\n",
       "      <td>2018-12-21</td>\n",
       "      <td>4.045</td>\n",
       "      <td>-0.001481</td>\n",
       "    </tr>\n",
       "    <tr>\n",
       "      <th>1019</th>\n",
       "      <td>2018-12-24</td>\n",
       "      <td>4.010</td>\n",
       "      <td>-0.008653</td>\n",
       "    </tr>\n",
       "    <tr>\n",
       "      <th>1020</th>\n",
       "      <td>2018-12-27</td>\n",
       "      <td>3.938</td>\n",
       "      <td>-0.017955</td>\n",
       "    </tr>\n",
       "    <tr>\n",
       "      <th>1021</th>\n",
       "      <td>2018-12-28</td>\n",
       "      <td>4.088</td>\n",
       "      <td>0.038090</td>\n",
       "    </tr>\n",
       "    <tr>\n",
       "      <th>1022</th>\n",
       "      <td>2018-12-31</td>\n",
       "      <td>4.119</td>\n",
       "      <td>0.007583</td>\n",
       "    </tr>\n",
       "  </tbody>\n",
       "</table>\n",
       "<p>1022 rows × 3 columns</p>\n",
       "</div>"
      ],
      "text/plain": [
       "           Date  Price   Returns\n",
       "1    2015-01-05  5.424 -0.035047\n",
       "2    2015-01-06  5.329 -0.017515\n",
       "3    2015-01-07  5.224 -0.019704\n",
       "4    2015-01-08  5.453  0.043836\n",
       "5    2015-01-09  5.340 -0.020723\n",
       "...         ...    ...       ...\n",
       "1018 2018-12-21  4.045 -0.001481\n",
       "1019 2018-12-24  4.010 -0.008653\n",
       "1020 2018-12-27  3.938 -0.017955\n",
       "1021 2018-12-28  4.088  0.038090\n",
       "1022 2018-12-31  4.119  0.007583\n",
       "\n",
       "[1022 rows x 3 columns]"
      ]
     },
     "execution_count": 2,
     "metadata": {},
     "output_type": "execute_result"
    }
   ],
   "source": [
    "df = pd.read_csv(\"NatixisStock.csv\", sep=';')\n",
    "print(df.shape)\n",
    "df['Date'] = pd.to_datetime(df['Date'], dayfirst=True)\n",
    "df['Price'] = df['Price'].str.replace(',', '.', regex=False).astype(float)\n",
    "df['Returns']=(df['Price']-df['Price'].shift(1))/df['Price'].shift(1)\n",
    "df.dropna()"
   ]
  },
  {
   "cell_type": "code",
   "execution_count": 5,
   "id": "9e5c5131-ab23-4f1f-9887-be0df716dd51",
   "metadata": {},
   "outputs": [],
   "source": [
    "#We extract the sample\n",
    "sample = df[(df['Date'] >= '2015-01-01')&(df['Date']<= '2016-12-31')].copy()"
   ]
  },
  {
   "cell_type": "markdown",
   "id": "68eb5dbc-b309-4eda-9aae-e72c89612cdd",
   "metadata": {},
   "source": [
    "Then compute the non parametric kernel density estimator\n",
    "\n",
    "__In this exercice we have the logistic function:__\n",
    "__$$\\mathcal{K}(x) =\\frac{1}{1+e^{-x}}$$__\n",
    "__Then taking the derivative we have that the following kernel  : \\begin{equation}K(x) = \\frac{e^{-x}}{(1 + e^{-x})^2}=\\mathcal{K}(x)(1 - \\mathcal{K}(x))\\end{equation}__\n",
    "\n",
    "According to : Introduction to Nonparametric Estimation from A.TSYBAKOV\n",
    "\n",
    "Let $X_1,\\dots,X_n$ representing returns be independent identically distributed random variables a basic estimator of the cumulative distribution function is the moment estimator such that :  \n",
    "$$E[\\mathbf{1}_{\\{X \\leq x\\}}] = F(x)$$  \n",
    "$$=> F_n(x) = \\frac{1}{n} \\sum_{i=1}^n \\mathbf{1}_{\\{X_i \\leq x\\}}$$  \n",
    "\n",
    "By the strong law of large numbers, we have that :\n",
    "$$F_n(x) \\to F(x), \\quad \\forall x \\in \\mathbb{R}$$  \n",
    "Therefore, $F_n(x)$ is a consistent estimator of $F(x)$. \n",
    "\n",
    "How can we estimate the density $f$ ? Recalling the definition of the derivative we have :\n",
    "\n",
    "$$f(x) = \\lim_{h \\to 0} \\frac{F(x + h) - F(x)}{h}$$\n",
    "\n",
    "For sufficiently small $h > 0$ we can write an approximation of $f$\n",
    "\n",
    "$$f(x) \\approx \\frac{F(x + h) - F(x - h)}{2h}$$ \n",
    "\n",
    "Replacing $F$ by the estimate $F_n$, we define  \n",
    "$$\\hat{f}(x) = \\frac{F_n(x + h) - F_n(x - h)}{2h}$$  \n",
    "\n",
    "The function $\\hat{f}$ is an estimator of $f$ called the Rosenblatt estimator. We can rewrite it in the form :  \n",
    "$$\\hat{f}(x) = \\frac{1}{2nh} \\sum_{i=1}^n \\mathbf{1}_{\\{x - h \\leq X_i \\leq x + h\\}} = \\frac{1}{nh} \\sum_{i=1}^n K_0\\left(\\frac{X_i - x}{h}\\right)$$  \n",
    "where $K_0(u) = \\frac{1}{2} I(-1 \\leq u \\leq 1)$. \n",
    "A simple generalization of the Rosenblatt estimator is given by  : $$\\hat{f}_n(x) = \\frac{1}{nh} \\sum_{i=1}^n K\\left(\\frac{X_i - x}{h}\\right)$$\n",
    "And therefore by integration: $$\\hat{F}_n(x) = \\frac{1}{n} \\sum_{i=1}^n \\mathcal{K}\\left(\\frac{X_i - x}{h}\\right)$$"
   ]
  },
  {
   "cell_type": "code",
   "execution_count": 6,
   "id": "80ca4891-4f6a-48ef-b9e2-3d3c8e7af14a",
   "metadata": {},
   "outputs": [
    {
     "data": {
      "image/png": "[encoded data removed]",
      "text/plain": [
       "<Figure size 640x480 with 1 Axes>"
      ]
     },
     "metadata": {},
     "output_type": "display_data"
    }
   ],
   "source": [
    "def logistic_function(x):\n",
    "    return 1 / (1 + np.exp(-x))\n",
    "\n",
    "def density(x):\n",
    "    y = logistic_function(x)\n",
    "    return y * (1 - y)\n",
    "\n",
    "def kernel_density_estimator(x,tab, h):\n",
    "    n =len(tab)\n",
    "    kde = 0\n",
    "    for i in range(n):\n",
    "        kde += density((x-tab[i])/h)\n",
    "    return kde/(n*h)\n",
    "\n",
    "returns= df['Returns'].dropna().values.astype(float)\n",
    "time = np.linspace(-0.1, 0.1, 100)\n",
    "plt.plot(time, kernel_density_estimator(time, returns, h=0.001), label=\"h=0.001\", color=\"orange\")\n",
    "plt.plot(time, kernel_density_estimator(time, returns, h=0.003), label=\"h=0.003\", color=\"red\")\n",
    "plt.plot(time, kernel_density_estimator(time, returns, h=0.005), label=\"h=0.005\", color=\"magenta\")\n",
    "plt.plot(time, kernel_density_estimator(time, returns, h=0.008), label=\"h=0.008\", color=\"darkmagenta\")\n",
    "plt.plot(time, kernel_density_estimator(time, returns, h=0.01), label=\"h=0.01\", color=\"blue\")\n",
    "plt.plot(time, kernel_density_estimator(time, returns, h=0.02), label=\"h=0.02\", color=\"cyan\")\n",
    "\n",
    "plt.title(\"Kernel distribution\")\n",
    "plt.xlabel(\"x\")\n",
    "plt.ylabel(\"Density\")\n",
    "plt.grid()\n",
    "plt.show()"
   ]
  },
  {
   "cell_type": "markdown",
   "id": "0d4614ae-1366-4ac0-b579-727ade3f1633",
   "metadata": {},
   "source": [
    "Using the Scott's rule of thumb to choose an optimal bandwidth of a non-parametric kernel density estimator. The formula is :\n",
    "\n",
    "$$ h =\\left({\\frac {4{\\hat {\\sigma }}^{5}}{3n}}\\right)^{\\frac {1}{5}}\\approx 1.06 \\hat{\\sigma} \\cdot n^{-1/5}$$"
   ]
  },
  {
   "cell_type": "code",
   "execution_count": 11,
   "id": "8210eadf-9983-40ed-ab46-52f4fcc3b160",
   "metadata": {},
   "outputs": [
    {
     "name": "stdout",
     "output_type": "stream",
     "text": [
      "Optimal bandwidth h :  0.007259254280370997\n"
     ]
    }
   ],
   "source": [
    "# Calculate the bandwidth for the kernel density estimation using the \n",
    "returns_sample = sample['Returns'].dropna().values.astype(float)\n",
    "n = len(returns_sample)\n",
    "#Using Scott's rule of thumb\n",
    "h =  np.std(returns_sample) * (n ** (-1/5)) * ((3/4) ** (-1/5))\n",
    "array = np.linspace(min(returns_sample), max(returns_sample), num=1000)\n",
    "print(\"Optimal bandwidth h : \",h)"
   ]
  },
  {
   "cell_type": "markdown",
   "id": "ab3c2462-7aab-4405-9df9-bfd6f88f2187",
   "metadata": {},
   "source": [
    "Now that we have obtained the kernel density estimator $\\hat{f}$, we need to integrate it to obtain the cumulative distribution of the kernel density estimator $\\hat{F}(x)$.\n",
    "\n",
    "To do this, we will compute the cumulative sum of an array of probabilies :\n",
    "$$F(x) = P(X \\leq x) = \\sum_{i=1}^{n} P(X = x_i) \\mathbb{1}_{\\{x_i \\leq x\\}}$$\n",
    "Finally to ensure that we have a cdf we will normalize this cdf."
   ]
  },
  {
   "cell_type": "code",
   "execution_count": 8,
   "id": "8f68d533-9769-4e01-96a5-1f6ed33618f5",
   "metadata": {},
   "outputs": [],
   "source": [
    "def compute_cdf(tab, h, array):\n",
    "    kde_values = np.array([kernel_density_estimator(x, tab, h) for x in array])\n",
    "    #We compute the cumulative sum of the kde\n",
    "    cdf = np.cumsum(kde_values)\n",
    "    #We normalize the values in order to obtain a cdf\n",
    "    cdf /= cdf[-1] \n",
    "    return np.array(cdf)"
   ]
  },
  {
   "cell_type": "markdown",
   "id": "e323a62f-645d-42cc-9c62-2e87e0cbd542",
   "metadata": {},
   "source": [
    "According to the course from M.GARCIN : \n",
    "Let $X $ be the price return that is a random variable and $F$ be its cumulative distribution function (cdf) :\n",
    "\n",
    "$$ F^{-1}(p) = \\inf \\{ x \\in \\mathbb{R}, F(x) \\geq p \\}$$\n",
    "\n",
    "The value at risk is a quantile that we can compute using the inverse cdf such that :\n",
    "$$ \\text{VaR}_\\alpha(X) = F_X^{-1}(\\alpha)$$"
   ]
  },
  {
   "cell_type": "code",
   "execution_count": 9,
   "id": "84f066a3-924e-452e-bed9-e95132631681",
   "metadata": {},
   "outputs": [
    {
     "name": "stdout",
     "output_type": "stream",
     "text": [
      "The non parametric value at risk at a level of confidence of 5% is : -0.0430718741420372\n"
     ]
    }
   ],
   "source": [
    "def var_non_parametric(cdf, array, alpha):\n",
    "    for i in range(len(cdf)):\n",
    "        if cdf[i] >= alpha:\n",
    "            return array[i]\n",
    "\n",
    "\n",
    "#Compute the cdf of the kde\n",
    "cdf_kde = compute_cdf(returns_sample,h, array)\n",
    "#Assuming we want a confidence of 95% the probability level for VaR calculation\n",
    "alpha = 0.05\n",
    "#Compute the non parametric VaR\n",
    "var_5_percent= var_non_parametric(cdf_kde,array, alpha)\n",
    "print(\"The non parametric value at risk at a level of confidence of 5% is :\",var_5_percent)"
   ]
  },
  {
   "cell_type": "markdown",
   "id": "94113a36-129d-4c81-9a0e-8efe8c1efc0b",
   "metadata": {},
   "source": [
    "### b)  Which proportion of price returns between January 2017 and December 2018 exceed the VaR threshold defined in the previous question? Do you validate the choice of this non-parametric VaR?"
   ]
  },
  {
   "cell_type": "code",
   "execution_count": 10,
   "id": "5f1f8ef6-631b-41b5-be3e-cb83d09ede24",
   "metadata": {
    "scrolled": true
   },
   "outputs": [
    {
     "name": "stdout",
     "output_type": "stream",
     "text": [
      "The proportion of values exceeding the value at risk out of the sample is : 0.013725490196078431\n"
     ]
    }
   ],
   "source": [
    "out_sample = df[(df['Date'] >= '2017-01-01')&(df['Date']<= '2018-12-31')].copy()\n",
    "values =out_sample[out_sample['Returns'].dropna() < var_5_percent]\n",
    "proportion = len(values)/len(out_sample['Returns'])\n",
    "\n",
    "print(\"The proportion of values exceeding the value at risk out of the sample is :\",proportion)"
   ]
  },
  {
   "cell_type": "markdown",
   "id": "08e7ca74-46f3-4504-a111-c9b205f41738",
   "metadata": {},
   "source": [
    "__This proportion is less than 5%, which allows us to validate it. However it is slightly below 5%, indicating that this Value at Risk might be overly conservative__"
   ]
  },
  {
   "cell_type": "markdown",
   "id": "d6071090-b0df-4093-ac02-dc8d7fe620e1",
   "metadata": {
    "jp-MarkdownHeadingCollapsed": true
   },
   "source": [
    "## Question B (Ex2, Q4 of TD2)\n",
    "We want to calculate the VaR (on the arithmetic variation of price, at a one-day horizon) for a call\n",
    "option on the Natixis stock. You will implement a Monte-Carlo VaR since the call price is a non-linear\n",
    "function of the underlying price, that we are able to model thanks to historical data. Here is, in detail,\n",
    "how you must proceed:\n",
    "- Estimate the parameters of a standard Brownian motion on the Natixis stock between 2015\n",
    "and 2018, using an exponential weighting of the data.\n",
    "- Simulate a number N (say N=1000 or else, but justify your choice for this number) of prices of\n",
    "the stock in a one-day horizon (we are working at the last date of 2018).\n",
    "- Transform each of these prices of underlying in prices of the corresponding call (say at the\n",
    "money, with one-month maturity and 0 risk-free rate and dividend).\n",
    "- Pick the empirical quantile of these N call prices to build the VaR of the call. \n",
    "\n",
    "Let's first calculate the mean mu of the return :\n",
    "\\begin{equation}\n",
    "\\mu = \\frac{1}{n} \\sum_{i=1}^{n} r_i\n",
    "\\end{equation}\n",
    "and the volatility using this formula :\n",
    "\\begin{equation}\n",
    " \\text{volatility} = \\sqrt{\\mathbb{E}[(r - \\mu)^2]}\n",
    "\\end{equation}\n",
    "with r the returns"
   ]
  },
  {
   "cell_type": "code",
   "execution_count": 14,
   "id": "00239598-7e6c-4b24-9e45-7dc9a08ec881",
   "metadata": {},
   "outputs": [
    {
     "name": "stdout",
     "output_type": "stream",
     "text": [
      "The mean is : -9.696604801149695e-05\n"
     ]
    }
   ],
   "source": [
    "mean = np.mean(df['Returns'])\n",
    "df['scare_returns'] = df['Returns']**2\n",
    "print(f\"The mean is : {mean}\")"
   ]
  },
  {
   "cell_type": "markdown",
   "id": "f1f344bc-c6ca-4e0f-894c-a7c899ebecaa",
   "metadata": {},
   "source": [
    "Now, we need to calculate the weighted volatility. This approach assigns greater importance to the most recent volatilities. To achieve this, we use the following formula:\n",
    "\\begin{equation}\n",
    "\\sigma_t = \\sqrt{(1 - \\lambda) \\sum_{i=1}^{n} \\lambda^{n-i} \\cdot \\text{returns}_i^2}\n",
    "\\end{equation}\n"
   ]
  },
  {
   "cell_type": "code",
   "execution_count": 15,
   "id": "d1772ff3-2dcb-4e1b-a1ef-be41e1eacd17",
   "metadata": {},
   "outputs": [
    {
     "name": "stdout",
     "output_type": "stream",
     "text": [
      "Estimated volatility : 0.02424224156705615\n"
     ]
    }
   ],
   "source": [
    "def calcul_volatility(df,lambda_value):\n",
    "    variance = 0\n",
    "    for i in range(1, len(df) ): \n",
    "        lambda_power = lambda_value ** (len(df) - i - 1)\n",
    "        rendement_carres = df['scare_returns'][i]\n",
    "        variance = variance + (1 - lambda_value) * rendement_carres * lambda_power\n",
    "       \n",
    "    volatilite = variance ** 0.5\n",
    "    return volatilite\n",
    "\n",
    "volatilite = calcul_volatility(df,0.94)\n",
    "print(\"Estimated volatility :\", volatilite)"
   ]
  },
  {
   "cell_type": "markdown",
   "id": "21a41da8-b9f0-425a-8694-b65003742790",
   "metadata": {},
   "source": [
    "Now, we need to identify the most recent price to serve as the starting point for simulating future prices."
   ]
  },
  {
   "cell_type": "markdown",
   "id": "1a1c78cb-5d65-4739-9b1c-86a0186d275a",
   "metadata": {},
   "source": [
    "S0 = df.tail(1)['Price'].values[0]\n",
    "print(f\"Initial price: {S0}\")"
   ]
  },
  {
   "cell_type": "markdown",
   "id": "71835205-0f7c-4a62-921e-f0c11608e632",
   "metadata": {},
   "source": [
    "Now we choose 𝑁=1000 simulations strikes a balance between accuracy and computational efficiency. It ensures statistical reliability, leveraging the law of large numbers to approximate the true distribution of simulated prices. This value is commonly used in financial modeling to achieve consistent results without excessive computational costs. Also we choose T=21 which represent approxiamtively the number of trading day in a month.\n",
    "\n",
    "In this step, we simulate 1000 possible prices of the Natixis stock for a one-day horizon using the formula for the geometric Brownian motion:\n",
    "\n",
    "\\begin{equation}\n",
    "S_T = S_0 \\cdot e^{\\left( \\mu - \\frac{\\sigma^2}{2} \\right) \\Delta t + \\sigma \\sqrt{\\Delta t} \\cdot Z}\n",
    "\\end{equation}\n",
    "with Δt = 1 because it is a one day horizon and : \n",
    "\\begin{equation}\n",
    "Z \\sim \\mathcal{N}(0, 1)\n",
    "\\end{equation}"
   ]
  },
  {
   "cell_type": "code",
   "execution_count": null,
   "id": "fb0dadc0-0579-4f14-810e-0f00c2930cba",
   "metadata": {},
   "outputs": [],
   "source": [
    "N = 1000  \n",
    "T = 1 \n",
    "\n",
    "np.random.seed(0)\n",
    "simulated_prices = np.zeros(N)\n",
    "#here we can neglect delta t because it is equal to 1\n",
    "for i in range(N):\n",
    "    z = np.random.normal()\n",
    "    simulated_price = S0 * np.exp((mean - 0.5 * volatilite ** 2)  + volatilite * z)\n",
    "    simulated_prices[i] = \n",
    "\n",
    "simulated_data = pd.DataFrame(simulated_prices, columns=['simulated_prices'])\n",
    "simulated_data['d1'] = 0\n",
    "simulated_data['d2'] = 0\n",
    "simulated_data['call_price']=0\n",
    "simulated_data.head()"
   ]
  },
  {
   "cell_type": "markdown",
   "id": "68272823-9f54-4154-9cb7-73a5ae1f454a",
   "metadata": {},
   "source": [
    "In this step, we simulate 1000 possible prices of the Natixis stock for a one-day horizon using the formula for the geometric Brownian motion:\n",
    "\n",
    "\\begin{equation}\n",
    "S_T = S_0 \\cdot e^{\\left( \\mu - \\frac{\\sigma^2}{2} \\right) \\Delta t + \\sigma \\sqrt{\\Delta t} \\cdot Z}\n",
    "\\end{equation}\n",
    "with Δt = 1 because it is a one day horizon and : \n",
    "\\begin{equation}\n",
    "Z \\sim \\mathcal{N}(0, 1)\n",
    "\\end{equation}"
   ]
  },
  {
   "cell_type": "markdown",
   "id": "903fe7b9-9765-4b24-8754-0378a9ed2408",
   "metadata": {},
   "source": [
    "Here we calculate d1 and d2 by using the following formulas : \n",
    "\n",
    "\\begin{equation}\n",
    "d_1 = \\frac{\\ln \\left( \\frac{K}{S_0} \\right) + \\left( r + \\frac{\\sigma^2}{2} \\right) T}{\\sigma \\sqrt{T}}\n",
    "\\end{equation}\n",
    "and \n",
    "\\begin{equation}\n",
    "d_2 = d_1 - \\sigma \\sqrt{T}\n",
    "\\end{equation}\n",
    "Then we can calculate the price of a call corresponding with the formula : \n",
    "\n",
    "\\begin{equation}\n",
    "C(S_{0},K,r,T,\\sigma ) = S_{0} \\mathcal{N}(d_{1}) - K e^{-rT} \\mathcal{N}(d_{2})\n",
    "\\end{equation}\n",
    "where : \n",
    "\n"
   ]
  },
  {
   "cell_type": "code",
   "execution_count": null,
   "id": "d961abbc-3ee3-452b-9bcb-d7f0dc2bddd2",
   "metadata": {},
   "outputs": [],
   "source": [
    "from scipy.stats import norm\n",
    "\n",
    "def BS(df, K, T, r, volatility):\n",
    "   \n",
    "    for index, row in df.iterrows():\n",
    "\n",
    "        S_0 = row['simulated_prices']  # Prix simulé\n",
    "        # Calcul de d1 et d2 selon la formule de Black-Scholes\n",
    "        d1 = (np.log(S_0 / K) + (r + 0.5 * volatility**2) * T) / (volatility * np.sqrt(T))\n",
    "        d2 = d1 - volatility * np.sqrt(T)\n",
    "        c = S_0 * norm.cdf(d1) - K * np.exp(-r * T) * norm.cdf(d2)\n",
    "        # Mise à jour des colonnes 'd1' et 'd2'\n",
    "        simulated_data.at[index, 'd1'] = d1\n",
    "        simulated_data.at[index, 'd2'] = d2\n",
    "        simulated_data.at[index, 'call_price'] = c\n",
    "\n",
    "BS(simulated_data, 4, 21, 0, volatilite)\n",
    "simulated_data.tail()"
   ]
  },
  {
   "cell_type": "code",
   "execution_count": null,
   "id": "f4ce678d-72eb-44f0-9616-44a358cc9e04",
   "metadata": {},
   "outputs": [],
   "source": [
    "mport numpy as np\n",
    "from scipy.stats import norm\n",
    "\n",
    "import matplotlib.pyplot as plt\n",
    "\n",
    "# Plot the histogram of call prices\n",
    "plt.hist(simulated_data['call_price'], bins=30, density=True, alpha=0.6, color='b', label='Call Prices')\n",
    "\n",
    "# Fit a normal distribution to the data\n",
    "mu, std = norm.fit(simulated_data['call_price'])\n",
    "\n",
    "# Plot the PDF of the fitted normal distribution\n",
    "xmin, xmax = plt.xlim()\n",
    "x = np.linspace(xmin, xmax, 100)\n",
    "p = norm.pdf(x, mu, std)\n",
    "plt.plot(x, p, 'r', linewidth=2, label='Normal Distribution')\n",
    "\n",
    "# Add labels and title\n",
    "plt.xlabel('Call Price')\n",
    "plt.ylabel('Density')\n",
    "plt.title('Distribution of Call Prices with Fitted Normal Distribution')\n",
    "plt.legend()\n",
    "# Show the plot\n",
    "plt.show()"
   ]
  },
  {
   "cell_type": "markdown",
   "id": "314eb62f-99d2-4817-92e4-9cf89d33936d",
   "metadata": {},
   "source": [
    "Now, we define a method called Value_at_Risk that sorts the different Call_price values in ascending order and then identifies a quantile passed as a parameter. This allows us to calculate the empirical Value at Risk using the Monte Carlo method (by utilizing all the prices we have simulated).\n"
   ]
  },
  {
   "cell_type": "markdown",
   "id": "c19c233e-fc12-4b3c-800f-6b3cb2f39daf",
   "metadata": {
    "jp-MarkdownHeadingCollapsed": true
   },
   "source": [
    "## Question C (Ex2, Q1 and Q3 of TD3)\n",
    "With the dataset provided for TD1 on Natixis prices, first calculate daily returns. You will then analyse\n",
    "these returns using a specific method in the field of the EVT."
   ]
  },
  {
   "cell_type": "markdown",
   "id": "da30913e-eda0-49de-a0cf-66a1cb5ca1e4",
   "metadata": {},
   "source": [
    "### a) Estimate the GEV parameters for the two tails of the distribution of returns, using the estimator of Pickands. What can you conclude about the nature of the extreme gains and losses? \n",
    "\n",
    "The first step is create two new datasets: one containing only positive returns and the other containing only negative returns. This separation enables a focused and independent analysis of both tails of the distribution."
   ]
  },
  {
   "cell_type": "code",
   "execution_count": 18,
   "id": "093e951a-844f-47fd-866f-b872da2628b1",
   "metadata": {},
   "outputs": [],
   "source": [
    "df_positifs = df[df['Returns'] > 0].copy()\n",
    "df_negatifs = df[df['Returns'] < 0].copy()"
   ]
  },
  {
   "cell_type": "markdown",
   "id": "cbc2bdda-c891-4dc1-bae0-82e44b74c0c0",
   "metadata": {},
   "source": [
    "Now, we create again two new datasets. For df_positif, we add a column absolut_returns, where the returns are sorted in ascending order (a necessary step for calculating the Pickands estimator). For df_negatif, we first convert all returns to their absolute values, then sort them in ascending order as well."
   ]
  },
  {
   "cell_type": "code",
   "execution_count": 19,
   "id": "311bd4a5-acc4-4439-b06b-455338ca9da6",
   "metadata": {},
   "outputs": [],
   "source": [
    "df_positifs_sorted = df_positifs.sort_values(by='Returns', ascending=True).reset_index(drop=True)\n",
    "df_negatifs_sorted = df_negatifs.assign(Rendement_Absolu=np.abs(df_negatifs['Returns'])).sort_values(by='Rendement_Absolu', ascending=True).reset_index(drop=True)"
   ]
  },
  {
   "cell_type": "markdown",
   "id": "fb7176eb-4b79-4003-a519-1e58d0902943",
   "metadata": {},
   "source": [
    "We now create our method  k to initialize the function  k(n) with the following criteria:\n",
    "\n",
    "\\begin{equation}\n",
    "\\lim_{n \\to \\infty} k(n) = \\infty\n",
    "\\end{equation}\n",
    "\n",
    "and\n",
    "\n",
    "\\begin{equation}\n",
    "\\lim_{n \\to \\infty} \\frac{k(n)}{n} = 0\n",
    "\\end{equation}\n",
    "\n",
    "Here we choose :\n",
    "\n",
    "\\begin{equation}\n",
    "\\ k(n) = \\log(n) \\\n",
    " \\end{equation}\n",
    "\n",
    "The logarithme, is commonly used when calculating the Pickands estimator."
   ]
  },
  {
   "cell_type": "code",
   "execution_count": 22,
   "id": "c56c2365-067c-427e-a7a8-8a5d8bf2c362",
   "metadata": {},
   "outputs": [
    {
     "name": "stdout",
     "output_type": "stream",
     "text": [
      "The value of k is : 6\n"
     ]
    }
   ],
   "source": [
    "def k(n):\n",
    "    return int(np.log(n))\n",
    "\n",
    "print(\"The value of k is :\", k(len(df)))"
   ]
  },
  {
   "cell_type": "markdown",
   "id": "1f7b93d4-b333-4ebb-a8b0-579c15547eba",
   "metadata": {},
   "source": [
    "According to the course from M.GARCIN\n",
    "\n",
    "Let $(X_n)$ be a sequence of independent (this is a unrealistic asumption that we will try to avoid after) identically distributed random variables with distribution function F belonging to the max-domain of attraction of a GEV law with parameter $\\xi \\in \\mathbb{R}$.\n",
    "Now we define our methode Pickand_ Estimator that will implement this formula : \n",
    "\n",
    "\\begin{equation}\n",
    "\\xi_{P_{k(n),n}} = \\frac{1}{\\log(2)} \\log \\left( \\frac{X_{n-k(n)+1:n} - X_{n-2k(n)+1:n}}{X_{n-2k(n)+1:n} - X_{n-4k(n)+1:n}} \\right)\n",
    "\\end{equation}\n",
    "converges in probability to $\\xi$. "
   ]
  },
  {
   "cell_type": "code",
   "execution_count": 23,
   "id": "34a5ac15-3f95-4e9f-aa1e-c13ca1c6c9b9",
   "metadata": {},
   "outputs": [
    {
     "name": "stdout",
     "output_type": "stream",
     "text": [
      "Pickand estimator for our positive returns : 0.5772338569463286\n",
      "Pickand estimator for our negative returns : -0.508971577934174\n"
     ]
    }
   ],
   "source": [
    "def Pickand_Estimator(df):\n",
    "    n=len(df)\n",
    "    pickand = (1 / np.log(2)) * np.log((df['Returns'].iloc[n - int(k(n))] - df['Returns'].iloc[n - 2 * int(k(n)) ]) / \n",
    "     (df['Returns'].iloc[n - 2 * int(k(n))] - df['Returns'].iloc[n - 4 * int(k(n)) ]))\n",
    "    return pickand\n",
    "\n",
    "print(\"Pickand estimator for our positive returns :\", Pickand_Estimator(df_positifs_sorted))\n",
    "\n",
    "print(\"Pickand estimator for our negative returns :\", Pickand_Estimator(df_negatifs_sorted))"
   ]
  },
  {
   "cell_type": "markdown",
   "id": "f945ab62-90c6-4e76-bd17-00396104bc8a",
   "metadata": {},
   "source": [
    "**We can conclude that:**\n",
    "\n",
    "The GEV parameters estimated using the Pickands estimator indicate the following :\n",
    "\n",
    "- __For the positive tail :__ The Pickands estimator for positive returns is $\\xi \\approx$ 0.577, which corresponds to a heavy tail (Fréchet type). This suggests that extreme gains are rare but can be very significant.\n",
    "\n",
    "- __For the negative tail :__ The Pickands estimator for negative returns is $\\xi \\approx$ -0.509 , which corresponds to a bounded tail (Weibull type). This indicates that extreme losses are limited by a threshold and their probability decays rapidly."
   ]
  },
  {
   "cell_type": "markdown",
   "id": "66442c32-319b-4b9e-bc43-33a7cb52e766",
   "metadata": {},
   "source": [
    "### b) Determine the extremal index using the block or run de-clustering. "
   ]
  },
  {
   "cell_type": "markdown",
   "id": "192c8c90-b3f1-4fd8-ae63-5dc921940ee3",
   "metadata": {},
   "source": [
    "Here, we will implement the run de-clustering method, which involves analyzing the occurrences of extreme values in a time series by grouping successive observations that exceed a certain threshold \n",
    "𝑢. This method allows us to calculate the extremal index \n",
    "𝜃, which quantifies the degree of temporal dependence among extreme values.\n",
    "\n",
    "According to the course from M. GARCIN\n",
    "\n",
    "To calculate the extremal index 𝜃 , we will use the following formula:\n",
    "\n",
    "\\begin{equation}\n",
    "\\hat{\\theta}_{n}(u; r) = \\frac{\\sum_{i=1}^{n-r} \\mathbf{1}(X_i > u, M_{i,i+r} \\leq u)}{\\sum_{i=1}^{n-r} \\mathbf{1}(X_i > u)}\n",
    "\\end{equation}\n",
    "\n",
    "In this formula:\n",
    "\n",
    "- The **numerator** is a sum of indicator functions that take the value 1  if, for an observation X_i , the value exceeds the threshold  𝑢 **and** no other value exceeds the threshold  𝑢 in the time window of size r  (the run). This corresponds to the number of distinct extreme clusters.\n",
    "- The **denominator** is also a sum of indicator functions, which take the value  1  whenever an observation exceeds the threshold 𝑢. This corresponds to the total number of threshold exceedances in the series.\n",
    "\n",
    "The extremal index 𝜃 therefore represents the ratio between the number of extreme clusters and the total number of extreme observations.\n",
    "\n",
    "Two approaches are possible here: either we calculate one index for positive returns and another for negative returns, or we use the absolute values of the returns to calculate a single index. In this case, we will follow the first approach, which is the one implemented during the tutorial sessions."
   ]
  },
  {
   "cell_type": "code",
   "execution_count": 45,
   "id": "27a69d2d-bd0b-4a16-8b92-2544060f4a4f",
   "metadata": {},
   "outputs": [],
   "source": [
    "def extremal_index_run_declustering(returns, u, r):\n",
    "    n = len(returns)\n",
    "    numerator = 0\n",
    "    denominator = 0\n",
    "    if(u>0) :\n",
    "        #We compute the sum with a loop\n",
    "        for i in range(n - r):\n",
    "            #We check if the current value is above the threshold to satisfy the indicatrice\n",
    "            if returns[i] > u:\n",
    "                denominator += 1\n",
    "    \n",
    "                #We compute the maximum within the run window [i, i+r]\n",
    "                if np.max(returns[i + 1:i + r + 1]) <= u:\n",
    "                    numerator += 1\n",
    "    else :\n",
    "        #We compute the sum with a looph\n",
    "        for i in range(n - r):\n",
    "            # We check if the current value is below the threshold to satisfy the indicatrice\n",
    "            if returns[i] < u:\n",
    "                denominator += 1\n",
    "    \n",
    "                #We compute the minimum within the run window [i, i+r]\n",
    "                if np.min(returns[i + 1:i + r + 1]) >= u:\n",
    "                    numerator += 1\n",
    "\n",
    "    theta = numerator / denominator\n",
    "    return theta"
   ]
  },
  {
   "cell_type": "markdown",
   "id": "f32bd9f0-43cb-42d2-8efe-375a9b770a03",
   "metadata": {},
   "source": [
    "To use this method, it is important first to add an abs_returns column in order to account for both positive and negative returns. Next, we define our threshold $u$, which in this case is 0.05, indicating a return threshold of 5% (or -5%), and our parameter $r$, which is set to 5 and 22 days, roughly corresponding to a trading week."
   ]
  },
  {
   "cell_type": "code",
   "execution_count": 46,
   "id": "87b316e6-721d-4acc-b0fd-58a558209eaf",
   "metadata": {},
   "outputs": [
    {
     "name": "stdout",
     "output_type": "stream",
     "text": [
      "Theta value for an independence between weeks : 0.8333333333333334\n",
      "Theta value for an independence between months : 0.5\n"
     ]
    }
   ],
   "source": [
    "returns = df['Returns'].dropna().values.astype(float)\n",
    "print(\"Theta value for an independence between weeks :\", extremal_index_run_declustering(returns, 0.05,5))\n",
    "print(\"Theta value for an independence between months :\",extremal_index_run_declustering(returns, 0.05, 22))"
   ]
  },
  {
   "cell_type": "markdown",
   "id": "18cb6e16-90e0-46eb-86ed-b5f361e7d5a0",
   "metadata": {},
   "source": [
    "The result of \n",
    "$\\theta \\approx 0.8333$ is more close to 1 meaning that with the threshold $u=0.05$ (which corresponds to a $5$% return, whether positive or negative), approximately $83.33$% of the returns exceeding this threshold occur in isolation, meaning there are no other returns exceeding this threshold within the following 5-day period.\n",
    "This suggests that positive extreme events tend to be more clustered in weeks rather than in months."
   ]
  },
  {
   "cell_type": "code",
   "execution_count": 47,
   "id": "dc7d2304-8559-4f7b-9ac9-f2529271c823",
   "metadata": {},
   "outputs": [
    {
     "name": "stdout",
     "output_type": "stream",
     "text": [
      "Theta value for an independence between weeks : 0.8666666666666667\n",
      "Theta value for an independence between months : 0.46153846153846156\n"
     ]
    }
   ],
   "source": [
    "print(\"Theta value for an independence between weeks :\", extremal_index_run_declustering(returns, -0.05,5))\n",
    "print(\"Theta value for an independence between months :\",extremal_index_run_declustering(returns,-0.05, 22))"
   ]
  },
  {
   "cell_type": "markdown",
   "id": "1ff468e2-0a5a-4c79-9526-a291bfd875aa",
   "metadata": {},
   "source": [
    "We obtain similar results of $\\theta$ for the threshold $u=-0.05$ this suggests that negative extreme events tend to be more clustered in weeks rather than in months."
   ]
  },
  {
   "cell_type": "markdown",
   "id": "bcfd4626-fe97-4252-8781-491811b21e32",
   "metadata": {
    "jp-MarkdownHeadingCollapsed": true
   },
   "source": [
    "## Question D (Ex2, Q3 and Q4 of TD4)\n",
    "With the dataset provided for TD4:"
   ]
  },
  {
   "cell_type": "markdown",
   "id": "07cc1f49-95f8-4956-948e-99a732c071c2",
   "metadata": {},
   "source": [
    "First we will have to import our dataset, convert column to usable types of data and we rename the columns "
   ]
  },
  {
   "cell_type": "code",
   "execution_count": 15,
   "id": "0b13003d-2c18-4661-8c6f-2dca2c7dd2bc",
   "metadata": {},
   "outputs": [],
   "source": [
    "import numpy as np\n",
    "import pandas as pd\n",
    "import matplotlib.pyplot as plt\n",
    "\n",
    "\n",
    "df = pd.read_csv(\"Dataset TD4.csv\", sep=';')\n",
    "\n",
    "#We replace commas with dots in object columns and convert to float\n",
    "for col in df.select_dtypes(include=['object']).columns:\n",
    "    df[col] = df[col].str.replace(',', '.', regex=False).astype(float, errors='ignore')\n",
    "\n",
    "df.rename(columns={'transaction date (1=1day=24 hours)': 'Date',\n",
    "                   'bid-ask spread': 'Spread',\n",
    "                   'volume of the transaction (if known)': 'Volume',\n",
    "                   'Sign of the transaction': 'Sign',\n",
    "                   'Price (before transaction)': 'Price'}, inplace=True)"
   ]
  },
  {
   "cell_type": "markdown",
   "id": "dc4b1b7d-a7c3-455c-aa7f-14f8f0020830",
   "metadata": {},
   "source": [
    "### a) Estimate all the parameters of the model of Almgren and Chriss. Is this model well specified?\n",
    "\n",
    "Then according to the course from M.GARCIN :\n",
    "- The function that models the permanent impact which is linear is : $$g(v) = \\gamma v$$\n",
    "  With $v$ the volume of the transaction\n",
    "\n",
    "- The function that models the transitional impact is :\n",
    " $$h\\left(\\frac{n_k}{\\tau}\\right) = \\xi \\, \\mathrm{sgn}(n_k) + \\eta \\frac{n_k}{\\tau}$$\n",
    "- __Parameter $\\gamma$ and $\\eta$ have to be estimated__\n",
    "\n",
    "- Price dynamics according to an arithmetic random walk: \n",
    "$$\n",
    "S_k = S_{k-1} + \\sigma\\sqrt{\\tau}\\epsilon_k - \\tau g\\left(\\frac{n_k}{\\tau}\\right)\n",
    "$$\n",
    "\n",
    "__We can estimate $\\gamma$ using a linear regression with the formula :__\n",
    "\n",
    "$$\n",
    "S_k - S_{k-1} = \\sigma\\sqrt{\\tau}\\epsilon_k - \\gamma n_k \n",
    "$$"
   ]
  },
  {
   "cell_type": "code",
   "execution_count": 16,
   "id": "909f887e-e100-47c8-9ea1-7854b2c0bd46",
   "metadata": {},
   "outputs": [],
   "source": [
    "df_copy = df.copy()\n",
    "#Create price_difference as S_k - S_{k-1}\n",
    "df['Price_Difference']=df['Price'].shift(-1) - df['Price']\n",
    "#We drop the nan values from our dataset to compute the linear regression\n",
    "df = df.dropna(subset=['Price_Difference','Volume'])\n",
    "\n",
    "#We drop outliers to have a more accurate linear regression\n",
    "def rem_outlier(df, col):\n",
    "    quantile1= df[col].quantile(0.25)\n",
    "    quantile3 = df[col].quantile(0.75)\n",
    "    I = quantile3 - quantile1\n",
    "    lower_bound = quantile1-1.5 * I\n",
    "    upper_bound = quantile3+1.5 * I\n",
    "\n",
    "    return df[(df[col] >= lower_bound) & (df[col] <= upper_bound)]\n",
    "\n",
    "#We do it for the two main columns\n",
    "df = rem_outlier(df, 'Price_Difference')\n",
    "df = rem_outlier(df, 'Volume')\n",
    "\n",
    "price_difference = df['Price_Difference'].values.astype(float)\n",
    "volume_signed = (df['Volume'].values.astype(int)) * (df['Sign'].values.astype(int))"
   ]
  },
  {
   "cell_type": "markdown",
   "id": "ee59e5d3-c876-44aa-84d9-edb021b8b033",
   "metadata": {},
   "source": [
    "Our statistics course provide us that for the linear regression the goal is to minimize the sum of squared residuals and the model can be written as :\n",
    "$$\n",
    "y = X\\beta + \\epsilon\n",
    "$$\n",
    "\n",
    "Here we want to estimate beta (containing our gamma) therefore we can compute the estimator of beta\n",
    "\n",
    "$$\n",
    "\\hat{\\beta} = (X^T X)^{-1} X^T y\n",
    "$$\n",
    "To see if we made some good predictions we will use the Mean Squared Error (MSE) and the R2 Score : \n",
    "\n",
    "$$\\text{MSE} = \\frac{1}{n} \\sum_{i=1}^n (y_i - \\hat{y}_i)^2\n",
    "$$\n",
    "$$\n",
    "R^2 = 1 - \\frac{\\frac{1}{n}\\sum_{i=1}^n (y_i - \\hat{y}_i)^2}{\\frac{1}{n}\\sum_{i=1}^n (y_i - \\bar{y})^2}$$"
   ]
  },
  {
   "cell_type": "code",
   "execution_count": 17,
   "id": "1c901741-afde-4c02-b351-885263f8b50f",
   "metadata": {},
   "outputs": [],
   "source": [
    "def linear_regression(X, y):\n",
    "    X = np.c_[np.ones((X.shape[0], 1)), X]  #Add a column of \"1\" to X\n",
    "    beta_hat = np.linalg.inv(X.T.dot(X)).dot(X.T).dot(y) #Compute beta hat\n",
    "    y_pred = X.dot(beta_hat) #Compute y_pred\n",
    "    \n",
    "    return beta_hat, y_pred\n",
    "\n",
    "def mse(y_true,y_pred):\n",
    "    return np.mean((y_true - y_pred)*(y_true - y_pred))\n",
    "\n",
    "def r2(y_true,y_pred):\n",
    "    sum_tot = np.sum((y_true - np.mean(y_true))*(y_true - np.mean(y_true)))\n",
    "    sum_residual = np.sum((y_true - y_pred)*(y_true - y_pred))\n",
    "    \n",
    "    return 1 - (sum_residual / sum_tot)"
   ]
  },
  {
   "cell_type": "code",
   "execution_count": 18,
   "id": "ec7ede98-d416-4c78-80a7-33682fc9e8e5",
   "metadata": {},
   "outputs": [
    {
     "name": "stdout",
     "output_type": "stream",
     "text": [
      "Estimated gamma : 0.0005702702332606549\n",
      "The Mean Squared Error is : 0.00029036018460583776\n",
      "The R2 score is : 0.9443789746702551\n"
     ]
    }
   ],
   "source": [
    "X = volume_signed.reshape(-1,1)\n",
    "y = price_difference\n",
    "\n",
    "beta_hat, y_pred_gamma = linear_regression(X, y)\n",
    "gamma_estimated = beta_hat[1]\n",
    "\n",
    "print(f'Estimated gamma : {gamma_estimated}')\n",
    "print(f'The Mean Squared Error is : {mse(price_difference,y_pred_gamma)}')\n",
    "print(f'The R2 score is : {r2(price_difference,y_pred_gamma)}')"
   ]
  },
  {
   "cell_type": "markdown",
   "id": "ba0965fc-89f2-4ca7-833d-e84c47702aa3",
   "metadata": {},
   "source": [
    "According to the course and Optimal Execution of Portfolio Transactions from ALMGREN and CHRISS:\n",
    " \n",
    " $$h\\left(\\frac{n_k}{\\tau}\\right) = \\xi \\, \\mathrm{sgn}(n_k) + \\eta \\frac{n_k}{\\tau}$$\n",
    "This model for \\( h \\) is often called the quadratic cost model, because the associated cost is given by :\n",
    "\n",
    "$$\n",
    "n_k h\\left(\\frac{n_k}{\\tau}\\right) = \\xi |n_k| + \\eta\\frac{n_k^2}{\\tau}\n",
    "$$\n",
    "- The assumption is that the observed price is different from the underlying dynamics because of a transitory impact (the trader exhausts the order book between $t_{k-1}$ and $t_k$, but it is instantly replenished in $t_k$): \n",
    "$$\n",
    "\\bar{S}_k = S_{k-1} - h\\left(\\frac{n_k}{\\tau}\\right)\n",
    "$$\n",
    "\n",
    "__We can also estimate $\\eta$ using a linear regression with:__\n",
    "$$S_k - S_{k-1} = \\xi |n_k| + \\eta \\frac{n_k^2}{\\tau}$$"
   ]
  },
  {
   "cell_type": "code",
   "execution_count": 19,
   "id": "c5997a1a-b3c0-4a51-b9dd-6d5607385ba8",
   "metadata": {},
   "outputs": [
    {
     "name": "stdout",
     "output_type": "stream",
     "text": [
      "Estimated Eta: 6.479775443366111e-08\n",
      "The Mean Squared Error is : 0.00015852718136557\n",
      "The R2 score is : 0.9696327360372874\n"
     ]
    }
   ],
   "source": [
    "volume_signed_squared = (df['Volume'].values.astype(int))*(df['Volume'].values.astype(int)) *(df['Sign'].values.astype(int))\n",
    "\n",
    "X = np.column_stack((volume_signed, volume_signed_squared))\n",
    "y = -price_difference\n",
    "beta_hat, y_pred_eta  = linear_regression(X, y)\n",
    "eta_estimated = beta_hat[2]/24.0\n",
    "\n",
    "print(f\"Estimated Eta: {eta_estimated}\")\n",
    "print(f'The Mean Squared Error is : {mse(-price_difference,y_pred_eta)}')\n",
    "print(f'The R2 score is : {r2(-price_difference,y_pred_eta)}')"
   ]
  },
  {
   "cell_type": "markdown",
   "id": "7dd30151-dcc7-4e43-a97f-6068db6bf5c7",
   "metadata": {},
   "source": [
    "Finally we will compute the following parameters for the Almgren and Chriss Model with the original data and not with the data where we drop lots of columns :\n",
    "- Parameter $\\xi$ wich is half the bid-ask spread\n",
    "- Parameter $\\sigma$ wich is the standard deviation of the returns\n",
    "- Parameter $\\tau$ given in the question wich is the time step (here 1/24)"
   ]
  },
  {
   "cell_type": "code",
   "execution_count": 22,
   "id": "91d08e24-d6fc-40bc-98bc-149983114f88",
   "metadata": {},
   "outputs": [
    {
     "name": "stdout",
     "output_type": "stream",
     "text": [
      "We annualize volatility : 0.05739752288974415\n",
      "Mean half spread : 0.05026138861138861\n"
     ]
    }
   ],
   "source": [
    "df_copy['Returns'] = (df_copy['Price'] - df_copy['Price'].shift(1)) / df_copy['Price'].shift(1)\n",
    "returns = df_copy['Returns'].values.astype(float)[1:]\n",
    "\n",
    "#By definition xi is the half the mean of the bid ask spread\n",
    "mean_spread = np.mean(df_copy['Spread'].values.astype(float)) \n",
    "xi = mean_spread/2\n",
    "#To annualize volatility\n",
    "sigma =np.std(returns)*np.sqrt(24)*np.sqrt(252)\n",
    "tau = 1/24.0\n",
    "print(f'We annualize volatility : {sigma}')\n",
    "print(f'Mean half spread : {xi}')"
   ]
  },
  {
   "cell_type": "markdown",
   "id": "a8c7b9a7-afbf-45ec-bdf4-29719a0f4ce8",
   "metadata": {},
   "source": [
    "__Reaching good MSE and R2 score for our two linear regression we can say that the model is well specified and that we correctly predicted the parameters__"
   ]
  },
  {
   "cell_type": "markdown",
   "id": "addba1d5-a1ae-4ba4-9148-e2e4e56c141a",
   "metadata": {},
   "source": [
    "### b) In the framework of Almgren and Chriss, what is your liquidation strategy (we recall that you can only make transactions once every hour).\n",
    "According to our course from M.GARCIN\n",
    "- Quantity $X$ to be liquidated by instalments $n_1$, $n_2$, ..., with \n",
    "  $$\n",
    "  x_k = X - \\sum_{j=1}^{k} n_j\n",
    "  $$\n",
    "\n",
    "- Discrete time trading, time step $\\tau$ here $1/24$ and $k \\in \\{1, \\dots, 24\\}$.\n",
    "  \n",
    "By Euler Lagrange\n",
    "$$x_k = X \\frac{\\sinh(K(T-(k-\\frac{1}{2}\\tau))}{\\sinh(KT)}$$\n",
    "$$K = \\lim_{\\tau \\to 0} \\sqrt{\\frac{\\lambda\\sigma^2}{\\eta}} + O(\\tau)$$\n",
    "\n",
    "We will try various strategies depending on the risk aversion of the trader wich is $\\lambda$ and we remind if  $\\lambda$ is higher the trader is willing to sell quickly to reduce exposure to volatility risk and it can even be negative if the trader\n",
    "likes risk.\n"
   ]
  },
  {
   "cell_type": "code",
   "execution_count": 23,
   "id": "7dbd5f18-7deb-4250-a006-1202368a4b25",
   "metadata": {},
   "outputs": [
    {
     "data": {
      "image/png": "[encoded data removed]",
      "text/plain": [
       "<Figure size 1000x600 with 1 Axes>"
      ]
     },
     "metadata": {},
     "output_type": "display_data"
    },
    {
     "name": "stdout",
     "output_type": "stream",
     "text": [
      " We have to make these transactions in order and every hour to perform our optimal strategy : [95411.07190073364, 86855.3000506008, 79066.7476697936, 71976.61608948196, 65522.276005692656, 59646.7142554863, 54298.03020222477, 49428.97728135212, 44996.5456570157, 40961.58230301339, 37288.44515212156, 33944.688258794864, 30900.775194194655, 28129.818141864114, 25607.340389408593, 23311.060118200498, 21220.693581248084, 19317.775930646214, 17585.498111919333, 16008.558384493772, 14573.027156736896, 13266.223941607299, 12076.605346029091]\n"
     ]
    }
   ],
   "source": [
    "X = 100000\n",
    "T = 24  #Total time period in a day\n",
    "\n",
    "#Time array\n",
    "times = [(1 / 24) * i for i in range(1, T)]\n",
    "risk_aversions = [10**(-6),10**(-5),10**(-4),10**(-3)]\n",
    "\n",
    "#Function to calculate optimal liquidation strategy\n",
    "def x_k(risk_aversion):\n",
    "    kappa = np.sqrt(risk_aversion * (sigma * sigma) / eta_estimated)\n",
    "    optimal_liquidation = [X * np.sinh(kappa * (T - t + tau / 2)) / np.sinh(kappa * T) for t in times]\n",
    "    return optimal_liquidation\n",
    "\n",
    "#We plot the different strategies\n",
    "plt.figure(figsize=(10, 6))\n",
    "\n",
    "for risk_aversion in risk_aversions:\n",
    "    optimal_liquidation = x_k(risk_aversion)\n",
    "    plt.plot(times, optimal_liquidation, label=f\"$\\\\lambda={risk_aversion}$\")\n",
    "\n",
    "plt.title(\"Liquidation Strategies for Different Risk Aversion Levels in a Day\")\n",
    "plt.xlabel(\"Percentage of Time for a Day\")\n",
    "plt.ylabel(\"Remaining Quantity ($x_k$)\")\n",
    "plt.legend()\n",
    "plt.grid()\n",
    "plt.show()\n",
    "\n",
    "#Assuming we want the strategies with the green curve, we will have to make these transactions in order and every hour\n",
    "optimal_liquidation = x_k(1 * 10**(-4))\n",
    "print(f' We have to make these transactions in order and every hour to perform our optimal strategy : {optimal_liquidation}')"
   ]
  },
  {
   "cell_type": "markdown",
   "id": "a5eae8e3-0306-43f9-9244-ed9a767aea78",
   "metadata": {
    "jp-MarkdownHeadingCollapsed": true
   },
   "source": [
    "## Question E (Q2 and Q3 of TD5)\n"
   ]
  },
  {
   "cell_type": "code",
   "execution_count": 2,
   "id": "9e920794-9984-48e8-b8cb-5562d6d3af06",
   "metadata": {},
   "outputs": [
    {
     "name": "stdout",
     "output_type": "stream",
     "text": [
      "(12929, 11)\n",
      "Date           object\n",
      "HIGH           object\n",
      "LOW            object\n",
      "Unnamed: 3    float64\n",
      "Date.1         object\n",
      "HIGH.1         object\n",
      "LOW.1          object\n",
      "Unnamed: 7    float64\n",
      "Date.2         object\n",
      "HIGH.2         object\n",
      "LOW.2          object\n",
      "dtype: object\n"
     ]
    }
   ],
   "source": [
    "df = pd.read_csv(\"Dataset TD5.csv\", delimiter=';', skiprows=1)\n",
    "print(df.shape)\n",
    "print(df.dtypes)"
   ]
  },
  {
   "cell_type": "code",
   "execution_count": 3,
   "id": "b18c2938-1158-4617-bba5-4abcb0ce604d",
   "metadata": {},
   "outputs": [
    {
     "name": "stdout",
     "output_type": "stream",
     "text": [
      "          Date_GBPEUR  High_GBPEUR  Low_GBPEUR         Date_SEKEUR  \\\n",
      "0 2016-03-07 09:00:00       1.2932      1.2917 2016-03-07 09:00:00   \n",
      "1 2016-03-07 09:15:00       1.2940      1.2930 2016-03-07 09:15:00   \n",
      "2 2016-03-07 09:30:00       1.2943      1.2922 2016-03-07 09:30:00   \n",
      "\n",
      "   High_SEKEUR  Low_SEKEUR         Date_CADEUR  High_CADEUR  Low_CADEUR  \n",
      "0      0.10725     0.10720 2016-03-07 09:00:00       0.6842      0.6829  \n",
      "1      0.10728     0.10717 2016-03-07 09:15:00       0.6849      0.6841  \n",
      "2      0.10726     0.10719 2016-03-07 09:30:00       0.6844      0.6837  \n"
     ]
    }
   ],
   "source": [
    "df.columns = ['Date_GBPEUR', 'High_GBPEUR', 'Low_GBPEUR', 'NaN1', 'Date_SEKEUR', 'High_SEKEUR', 'Low_SEKEUR', 'NaN2', 'Date_CADEUR', 'High_CADEUR', 'Low_CADEUR']\n",
    "\n",
    "df_cleaned = df.drop(columns=['NaN1', 'NaN2'])\n",
    "\n",
    "df_cleaned['Date_GBPEUR'] = pd.to_datetime(df_cleaned['Date_GBPEUR'], format='%d/%m/%Y %H:%M', errors='coerce')\n",
    "df_cleaned['Date_SEKEUR'] = pd.to_datetime(df_cleaned['Date_SEKEUR'], format='%d/%m/%Y %H:%M', errors='coerce')\n",
    "df_cleaned['Date_CADEUR'] = pd.to_datetime(df_cleaned['Date_CADEUR'], format='%d/%m/%Y %H:%M', errors='coerce')\n",
    "\n",
    "for col in df_cleaned.select_dtypes(include=['object']).columns:\n",
    "    df_cleaned[col] = df_cleaned[col].str.replace(',', '.', regex=False).astype(float, errors='ignore')\n",
    "\n",
    "df = df_cleaned.copy()\n",
    "print(df.head(3))"
   ]
  },
  {
   "cell_type": "markdown",
   "id": "7d8c3c7b-83a4-4aa7-a777-c73639a0d88a",
   "metadata": {},
   "source": [
    "We now calculate, for each currency, the average between the highest price and the lowest price for each row. Then with the price we compute the returns"
   ]
  },
  {
   "cell_type": "code",
   "execution_count": 4,
   "id": "ef4d53f8-b057-4442-8e3e-a30e115d3b28",
   "metadata": {},
   "outputs": [
    {
     "data": {
      "text/html": [
       "<div>\n",
       "<style scoped>\n",
       "    .dataframe tbody tr th:only-of-type {\n",
       "        vertical-align: middle;\n",
       "    }\n",
       "\n",
       "    .dataframe tbody tr th {\n",
       "        vertical-align: top;\n",
       "    }\n",
       "\n",
       "    .dataframe thead th {\n",
       "        text-align: right;\n",
       "    }\n",
       "</style>\n",
       "<table border=\"1\" class=\"dataframe\">\n",
       "  <thead>\n",
       "    <tr style=\"text-align: right;\">\n",
       "      <th></th>\n",
       "      <th>Date_GBPEUR</th>\n",
       "      <th>High_GBPEUR</th>\n",
       "      <th>Low_GBPEUR</th>\n",
       "      <th>Date_SEKEUR</th>\n",
       "      <th>High_SEKEUR</th>\n",
       "      <th>Low_SEKEUR</th>\n",
       "      <th>Date_CADEUR</th>\n",
       "      <th>High_CADEUR</th>\n",
       "      <th>Low_CADEUR</th>\n",
       "      <th>PRICE_GBPEUR</th>\n",
       "      <th>PRICE_SEKEUR</th>\n",
       "      <th>PRICE_CADEUR</th>\n",
       "      <th>RET_GBPEUR</th>\n",
       "      <th>RET_SEKEUR</th>\n",
       "      <th>RET_CADEUR</th>\n",
       "    </tr>\n",
       "  </thead>\n",
       "  <tbody>\n",
       "    <tr>\n",
       "      <th>12926</th>\n",
       "      <td>2016-09-07 17:30:00</td>\n",
       "      <td>1.1880</td>\n",
       "      <td>1.1874</td>\n",
       "      <td>2016-09-07 17:30:00</td>\n",
       "      <td>0.10538</td>\n",
       "      <td>0.10536</td>\n",
       "      <td>2016-09-07 17:30:00</td>\n",
       "      <td>0.6902</td>\n",
       "      <td>0.6898</td>\n",
       "      <td>1.18770</td>\n",
       "      <td>0.105370</td>\n",
       "      <td>0.69000</td>\n",
       "      <td>-0.000126</td>\n",
       "      <td>0.000142</td>\n",
       "      <td>0.000217</td>\n",
       "    </tr>\n",
       "    <tr>\n",
       "      <th>12927</th>\n",
       "      <td>2016-09-07 17:45:00</td>\n",
       "      <td>1.1874</td>\n",
       "      <td>1.1866</td>\n",
       "      <td>2016-09-07 17:45:00</td>\n",
       "      <td>0.10537</td>\n",
       "      <td>0.10536</td>\n",
       "      <td>2016-09-07 17:45:00</td>\n",
       "      <td>0.6902</td>\n",
       "      <td>0.6901</td>\n",
       "      <td>1.18700</td>\n",
       "      <td>0.105365</td>\n",
       "      <td>0.69015</td>\n",
       "      <td>-0.000589</td>\n",
       "      <td>-0.000047</td>\n",
       "      <td>0.000217</td>\n",
       "    </tr>\n",
       "    <tr>\n",
       "      <th>12928</th>\n",
       "      <td>2016-09-07 18:00:00</td>\n",
       "      <td>1.1870</td>\n",
       "      <td>1.1869</td>\n",
       "      <td>2016-09-07 18:00:00</td>\n",
       "      <td>0.10537</td>\n",
       "      <td>0.10537</td>\n",
       "      <td>2016-09-07 18:00:00</td>\n",
       "      <td>0.6901</td>\n",
       "      <td>0.6901</td>\n",
       "      <td>1.18695</td>\n",
       "      <td>0.105370</td>\n",
       "      <td>0.69010</td>\n",
       "      <td>-0.000042</td>\n",
       "      <td>0.000047</td>\n",
       "      <td>-0.000072</td>\n",
       "    </tr>\n",
       "  </tbody>\n",
       "</table>\n",
       "</div>"
      ],
      "text/plain": [
       "              Date_GBPEUR  High_GBPEUR  Low_GBPEUR         Date_SEKEUR  \\\n",
       "12926 2016-09-07 17:30:00       1.1880      1.1874 2016-09-07 17:30:00   \n",
       "12927 2016-09-07 17:45:00       1.1874      1.1866 2016-09-07 17:45:00   \n",
       "12928 2016-09-07 18:00:00       1.1870      1.1869 2016-09-07 18:00:00   \n",
       "\n",
       "       High_SEKEUR  Low_SEKEUR         Date_CADEUR  High_CADEUR  Low_CADEUR  \\\n",
       "12926      0.10538     0.10536 2016-09-07 17:30:00       0.6902      0.6898   \n",
       "12927      0.10537     0.10536 2016-09-07 17:45:00       0.6902      0.6901   \n",
       "12928      0.10537     0.10537 2016-09-07 18:00:00       0.6901      0.6901   \n",
       "\n",
       "       PRICE_GBPEUR  PRICE_SEKEUR  PRICE_CADEUR  RET_GBPEUR  RET_SEKEUR  \\\n",
       "12926       1.18770      0.105370       0.69000   -0.000126    0.000142   \n",
       "12927       1.18700      0.105365       0.69015   -0.000589   -0.000047   \n",
       "12928       1.18695      0.105370       0.69010   -0.000042    0.000047   \n",
       "\n",
       "       RET_CADEUR  \n",
       "12926    0.000217  \n",
       "12927    0.000217  \n",
       "12928   -0.000072  "
      ]
     },
     "execution_count": 4,
     "metadata": {},
     "output_type": "execute_result"
    }
   ],
   "source": [
    "df[\"PRICE_GBPEUR\"]=(df[\"High_GBPEUR\"]+df[\"Low_GBPEUR\"])/2\n",
    "df[\"PRICE_SEKEUR\"]=(df[\"High_SEKEUR\"]+df[\"Low_SEKEUR\"])/2\n",
    "df[\"PRICE_CADEUR\"]=(df[\"High_CADEUR\"]+df[\"Low_CADEUR\"])/2\n",
    "\n",
    "df['RET_GBPEUR']=(df['PRICE_GBPEUR']-df['PRICE_GBPEUR'].shift(1))/df['PRICE_GBPEUR'].shift(1)\n",
    "df['RET_SEKEUR']=(df['PRICE_SEKEUR']-df['PRICE_SEKEUR'].shift(1))/df['PRICE_SEKEUR'].shift(1)\n",
    "df['RET_CADEUR']=(df['PRICE_CADEUR']-df['PRICE_CADEUR'].shift(1))/df['PRICE_CADEUR'].shift(1)\n",
    "df.head(3)\n",
    "df.tail(3)"
   ]
  },
  {
   "cell_type": "markdown",
   "id": "ce09f557-f9b6-4e05-97c3-9c2e22f47cfa",
   "metadata": {},
   "source": [
    "### a) With Haar wavelets and the dataset provided with TD5, determine the multiresolution correlation between all the pairs of FX rates, using GBPEUR, SEKEUR, and CADEUR (work with the average between the highest and the lowest price and transform this average price in returns on the smallest time step). Do you observe an Epps effect and how could you explain this?"
   ]
  },
  {
   "cell_type": "markdown",
   "id": "9766f2bd-8a1a-45a4-89fd-e63d3b04d32f",
   "metadata": {},
   "source": [
    "The Haar father wavelet is defined as a piecewise constant function as it follows : $$ \\phi(t) = \\mathbf{1}_{[0,1[} $$\n",
    "\n",
    "The scaled and translated version of the father wavelet is : $$\n",
    "\\phi_{j,k}(t) = \\phi(2^j t - k)\n",
    "$$"
   ]
  },
  {
   "cell_type": "code",
   "execution_count": 5,
   "id": "120f4e23-df57-4b7e-86e7-2e9d096f4630",
   "metadata": {},
   "outputs": [],
   "source": [
    "def phi(t):\n",
    "    if(0<=t and t<1) :\n",
    "        return 1\n",
    "    else :\n",
    "        return 0\n",
    "\n",
    "def phi_j_k(t, j, k):\n",
    "    return phi((2**j)*t-k)"
   ]
  },
  {
   "cell_type": "markdown",
   "id": "267c4356-6f92-42b0-9e8d-6c828674d3b0",
   "metadata": {},
   "source": [
    "In this case, we are can compute the scaling coefficient, which is defined by an empirical integral on a discrete grid and represent the projection of the signal onto the scaling function $\\phi_{j,k}$:\n",
    "\n",
    "$$\n",
    "c_{\\text{empirical}}^{j,k} = \\sum_{n=1}^{N} z(n) \\phi_{j,k}(n)\n",
    "$$"
   ]
  },
  {
   "cell_type": "code",
   "execution_count": 7,
   "id": "ff1ee63d-0e0d-49ae-a015-a9f9226338a5",
   "metadata": {},
   "outputs": [],
   "source": [
    "def scaling_coefficient(z, j, k):\n",
    "    return sum([z[i]*phi_j_k(i,j,k) for i in range(len(z))])"
   ]
  },
  {
   "cell_type": "markdown",
   "id": "75519168-bb92-4346-8c91-0ab52c77e17f",
   "metadata": {},
   "source": [
    "The covariance $Cov(j)$ is given by:\n",
    "\n",
    "$$\n",
    "\\text{Cov}(j) = \\frac{1}{T} \\sum_{k=1}^{T} c_1(j,k) - \\frac{1}{T} \\sum_{l=1}^{T} c_1(j,l) \\left( c_2(j,k) - \\frac{1}{T} \\sum_{l=1}^{T} c_2(j,l) \\right).\n",
    "$$"
   ]
  },
  {
   "cell_type": "code",
   "execution_count": 14,
   "id": "4e97b719-e4b7-4d65-a642-995b055f6480",
   "metadata": {},
   "outputs": [
    {
     "name": "stdout",
     "output_type": "stream",
     "text": [
      "Mean for the return_a at scale 0: -6.440651497492575e-06\n",
      "Mean for the return_b at scale 0: -1.2964902556189675e-06\n",
      "Standard deviation for the return_a at scale 0: 0.0006232292103278637\n",
      "Standard deviation for the return_b at scale 0: 0.00032713099343330146\n",
      "Covariance at scale 0: 3.902894073319841e-08\n",
      "Correlation at scale 0: 0.1914332055673699\n",
      "Mean for the return_a at scale 1: -5.978382538529345e-07\n",
      "Mean for the return_b at scale 1: 8.697570536314387e-07\n",
      "Standard deviation for the return_a at scale 1: 0.0003186213309968316\n",
      "Standard deviation for the return_b at scale 1: 0.00021492807158945824\n",
      "Covariance at scale 1: 1.1744603003541385e-08\n",
      "Correlation at scale 1: 0.17150245909769077\n",
      "Mean for the return_a at scale 2: -1.4836014252329667e-06\n",
      "Mean for the return_b at scale 2: 1.5454575877296133e-06\n",
      "Standard deviation for the return_a at scale 2: 0.0002286897258438785\n",
      "Standard deviation for the return_b at scale 2: 0.00016261897969216597\n",
      "Covariance at scale 2: 8.10647883072942e-09\n",
      "Correlation at scale 2: 0.21797885510247106\n"
     ]
    },
    {
     "data": {
      "text/plain": [
       "{0: 0.1914332055673699, 1: 0.17150245909769077, 2: 0.21797885510247106}"
      ]
     },
     "execution_count": 14,
     "metadata": {},
     "output_type": "execute_result"
    }
   ],
   "source": [
    "def wavelet_multiresolution_correlation(return_a, return_b, gamma):\n",
    "    #Storing correlations in an multiresolution correlation\n",
    "    multiresolution_correlation = {}\n",
    "    T = len(return_a) - 1  # Length for the returns\n",
    "    j=0\n",
    "    while (j <= gamma):  # For each scale j from 0 to gamma\n",
    "        #We compute the mean of the scaling coefficients for each series at j\n",
    "        mean_return_a = sum([scaling_coefficient(return_a, j, k) for k in range(2, T+2)]) / T\n",
    "        mean_return_b = sum([scaling_coefficient(return_b, j, k) for k in range(2, T+2)]) / T\n",
    "\n",
    "        #We compute the standard deviations for each returns at j\n",
    "        std_return_a = np.sqrt(sum([(scaling_coefficient(return_a, j, k) - mean_return_a)**2 for k in range(2,T+2)]) / (T))\n",
    "        std_return_b = np.sqrt(sum([(scaling_coefficient(return_b, j, k) - mean_return_b)**2 for k in range(2,T+2)]) / (T))\n",
    "\n",
    "        #We compute the covariance at j\n",
    "        covariance_j = sum([(scaling_coefficient(return_a,j,k)-mean_return_a)*(scaling_coefficient(return_b,j,k)-mean_return_b)\n",
    "                     for k in range(2,T+2)]) /T\n",
    "        \n",
    "        #We compute the multiresolution correlation at j\n",
    "        correlation_j = covariance_j/(std_return_a*std_return_b)\n",
    "\n",
    "        #We store the correlation or covariance by scale\n",
    "        multiresolution_correlation[j] = correlation_j\n",
    "\n",
    "        print(f\"Mean for the return_a at scale {j}: {mean_return_a}\")\n",
    "        print(f\"Mean for the return_b at scale {j}: {mean_return_b}\")\n",
    "        print(f\"Standard deviation for the return_a at scale {j}: {std_return_a}\")\n",
    "        print(f\"Standard deviation for the return_b at scale {j}: {std_return_b}\")\n",
    "        print(f\"Covariance at scale {j}: {covariance_j}\")\n",
    "        print(f\"Correlation at scale {j}: {correlation_j}\")\n",
    "        j += 1\n",
    "\n",
    "    return multiresolution_correlation\n",
    "    \n",
    "wavelet_multiresolution_correlation(df[\"RET_GBPEUR\"].dropna().values.astype(float), df[\"RET_SEKEUR\"].dropna().values.astype(float),2)"
   ]
  },
  {
   "cell_type": "code",
   "execution_count": 12,
   "id": "c8f25181-a0b7-441a-bb98-46eae5800522",
   "metadata": {},
   "outputs": [
    {
     "name": "stdout",
     "output_type": "stream",
     "text": [
      "Mean for the return_a at scale 0: -6.440651497492575e-06\n",
      "Mean for the return_b at scale 0: 8.092599256735789e-07\n",
      "Standard deviation for the return_a at scale 0: 0.0006232292103278637\n",
      "Standard deviation for the return_b at scale 0: 0.0005060983808060994\n",
      "Covariance at scale 0: 7.731514363582601e-08\n",
      "Correlation at scale 0: 0.24512173332467035\n",
      "Mean for the return_a at scale 1: -5.978382538529345e-07\n",
      "Mean for the return_b at scale 1: 5.022505417484496e-07\n",
      "Standard deviation for the return_a at scale 1: 0.0003186213309968316\n",
      "Standard deviation for the return_b at scale 1: 0.00038460054911391035\n",
      "Covariance at scale 1: 5.8241962261371624e-08\n",
      "Correlation at scale 1: 0.47528187331471317\n",
      "Mean for the return_a at scale 2: -1.4836014252329667e-06\n",
      "Mean for the return_b at scale 2: 1.7576947939661903e-06\n",
      "Standard deviation for the return_a at scale 2: 0.0002286897258438785\n",
      "Standard deviation for the return_b at scale 2: 0.00030855720025359555\n",
      "Covariance at scale 2: 3.677049822716895e-08\n",
      "Correlation at scale 2: 0.5210953231335689\n"
     ]
    },
    {
     "data": {
      "text/plain": [
       "{0: 0.24512173332467035, 1: 0.47528187331471317, 2: 0.5210953231335689}"
      ]
     },
     "execution_count": 12,
     "metadata": {},
     "output_type": "execute_result"
    }
   ],
   "source": [
    "wavelet_multiresolution_correlation(df[\"RET_GBPEUR\"].dropna().values.astype(float), df[\"RET_CADEUR\"].dropna().values.astype(float),2)"
   ]
  },
  {
   "cell_type": "code",
   "execution_count": 13,
   "id": "fce28a63-5355-4006-a367-09c685e6eeea",
   "metadata": {},
   "outputs": [
    {
     "name": "stdout",
     "output_type": "stream",
     "text": [
      "Mean for the return_a at scale 0: -1.2964902556189675e-06\n",
      "Mean for the return_b at scale 0: 8.092599256735789e-07\n",
      "Standard deviation for the return_a at scale 0: 0.00032713099343330146\n",
      "Standard deviation for the return_b at scale 0: 0.0005060983808060994\n",
      "Covariance at scale 0: 3.191642597810315e-08\n",
      "Correlation at scale 0: 0.19277806309824214\n",
      "Mean for the return_a at scale 1: 8.697570536314387e-07\n",
      "Mean for the return_b at scale 1: 5.022505417484496e-07\n",
      "Standard deviation for the return_a at scale 1: 0.00021492807158945824\n",
      "Standard deviation for the return_b at scale 1: 0.00038460054911391035\n",
      "Covariance at scale 1: 2.2841320761713918e-08\n",
      "Correlation at scale 1: 0.2763237223493418\n",
      "Mean for the return_a at scale 2: 1.5454575877296133e-06\n",
      "Mean for the return_b at scale 2: 1.7576947939661903e-06\n",
      "Standard deviation for the return_a at scale 2: 0.00016261897969216597\n",
      "Standard deviation for the return_b at scale 2: 0.00030855720025359555\n",
      "Covariance at scale 2: 1.627876570740538e-08\n",
      "Correlation at scale 2: 0.32442518093070283\n"
     ]
    },
    {
     "data": {
      "text/plain": [
       "{0: 0.19277806309824214, 1: 0.2763237223493418, 2: 0.32442518093070283}"
      ]
     },
     "execution_count": 13,
     "metadata": {},
     "output_type": "execute_result"
    }
   ],
   "source": [
    "wavelet_multiresolution_correlation(df[\"RET_SEKEUR\"].dropna().values.astype(float), df[\"RET_CADEUR\"].dropna().values.astype(float),2)"
   ]
  },
  {
   "cell_type": "markdown",
   "id": "b5f32705-be95-4b9b-9711-75fd47c8383c",
   "metadata": {},
   "source": [
    "According to Comovements in Stock Prices in the Very Short Run from TW.EPPS : The Epps effect refers to the empirical observation that correlations between stock returns decrease as sampling frequency increases due to market microstructure effects and asynchronous trading. __We observe that in general, in high frequencies (finer scale) the value of the correlation is lower depicting an Epps effect.__\n",
    "\n",
    "This refers to the racing of a particular currency in relation to others:\n",
    "- At high frequencies correlation observed among the FX rates is affected by noise coming from bid-ask spreads, latency in trade execution, and short-term arbitrage activities: actually these are symptomatic distortions of the real economic relationship amongst the currency pairs.\n",
    "  \n",
    "- Currency pairs GBPEUR, SEKEUR, and CADEUR are traded across different time zones and trading sessions, which perfect decouples them at finer time scales. This decoupling again leads to the reduction of the observed correlations when observing from data sampled at high frequencies. \n"
   ]
  },
  {
   "cell_type": "markdown",
   "id": "b890d5ac-74fb-427b-91ef-404421a6fc9c",
   "metadata": {},
   "source": [
    "\n",
    "### b) Calculate the Hurst exponent of GBPEUR, SEKEUR, and CADEUR. Determine their annualized volatility using the daily volatility and Hurst exponents. "
   ]
  },
  {
   "cell_type": "markdown",
   "id": "781eec84-d50f-4e10-98e0-44097e691304",
   "metadata": {},
   "source": [
    "According to the course we have that :\n",
    "We define empirical absolute moments on our sample $[0, T]$ with $1/N$ spacings:\n",
    "\\begin{equation}\n",
    "    M_k = \\frac{1}{NT} \\sum_{i=1}^{NT} \\big| X(i/N) - X((i-1)/N) \\big|^k. \\tag{2}\n",
    "\\end{equation}\n",
    "\n",
    "$M_k$ is an estimate of $\\mathbb{E} \\big( |X(\\cdot) - X(\\cdot - 1/N)|^k \\big)$, whose value is:\n",
    "\\begin{equation}\n",
    "    \\mathbb{E} \\big( |X(\\cdot) - X(\\cdot - 1/N)|^k \\big) = \\frac{2^k \\Gamma\\big( \\frac{k+1}{2} \\big)}{\\Gamma\\big( \\frac{1}{2} \\big)} \\sigma^k N^{-kH}. \\tag{3}\n",
    "\\end{equation}\n",
    "\n",
    "It thus leads to the following estimate of $H$:\n",
    "\\begin{equation*}\n",
    "    \\hat{H} = -\\frac{\\log\\big(\\sqrt{\\pi M_k / \\big[2^k \\Gamma\\big( \\frac{k+1}{2} \\big) \\sigma^k\\big]}\\big)}{k \\log(N)},\n",
    "\\end{equation*}\n",
    "\n",
    "From now $k = 2$ (estimator then stems from $\\mathbb{E}\\{ (B_H(t) - B_H(s))^2 \\} = \\sigma^2 |t-s|^{2H}$). We combine it with the same kind of statistic $M_2'$ based on observations in the same window but with halved resolution:\n",
    "\\begin{equation*}\n",
    "    M_2' = \\frac{2}{NT} \\sum_{i=1}^{NT/2} \\big| X(2i/N) - X(2(i-1)/N) \\big|^2.\n",
    "\\end{equation*}\n",
    "\n",
    "Then:\n",
    "\\begin{equation}\n",
    "    \\hat{H} = \\frac{1}{2} \\log_2 \\left( \\frac{M_2'}{M_2} \\right). \\tag{4}\n",
    "\\end{equation}\n"
   ]
  },
  {
   "cell_type": "code",
   "execution_count": 17,
   "id": "c42b61ef-e88b-4dc8-aa5a-ef95fcb558a5",
   "metadata": {},
   "outputs": [
    {
     "name": "stdout",
     "output_type": "stream",
     "text": [
      "Hurst exponent for GBPEUR: 0.6714847739600805\n",
      "Hurst exponent fo SEKEUR: 0.654702946657914\n",
      "Hurst exponent fo CADEUR: 0.6553518758936014\n"
     ]
    }
   ],
   "source": [
    "def Hurst_Exponent(returns):\n",
    "    k = 2  # The moment of order 2\n",
    "    T = len(returns)\n",
    "    \n",
    "    #We first compute M_2 (absolute moment of order 2)\n",
    "    M_2 = 0\n",
    "    for i in range(1, T):\n",
    "        M_2 += abs(returns[i] -returns[i - 1])**k\n",
    "    M_2 /= (T - 1)\n",
    "    \n",
    "    #We then compute M_2_prime (absolute moment of order 2 with step size 2)\n",
    "    M_2_prime = 0\n",
    "    for i in range(1, T // 2):\n",
    "        M_2_prime += abs(returns[2 * i] -returns[2 * i - 2])**k\n",
    "    M_2_prime /= (T // 2 - 1)\n",
    "    \n",
    "    #We return the Hurst exponent\n",
    "    return 0.5 * np.log2(M_2_prime / M_2)\n",
    "\n",
    "Hurst_GBPEUR=Hurst_Exponent(df['PRICE_GBPEUR'].values.astype(float))\n",
    "Hurst_SEKEUR=Hurst_Exponent(df['PRICE_SEKEUR'].values.astype(float))\n",
    "Hurst_CADEUR=Hurst_Exponent(df['PRICE_CADEUR'].values.astype(float))\n",
    "\n",
    "print(\"Hurst exponent for GBPEUR:\",Hurst_GBPEUR)\n",
    "print(\"Hurst exponent fo SEKEUR:\",Hurst_SEKEUR)\n",
    "print(\"Hurst exponent fo CADEUR:\",Hurst_CADEUR)"
   ]
  },
  {
   "cell_type": "markdown",
   "id": "10b7be50-2dce-4d1a-be11-37944799185a",
   "metadata": {},
   "source": [
    "Looking at the Hurst exponent we already computed we can see that returns are not independent because $H \\neq \\frac{1}{2}$ and we can also say that because :\n",
    "- $H > \\frac{1}{2}$ returns are positively correlated.\n",
    "\n",
    "\n",
    "Rather than annualizing with the squared root assuming the returns are independent (wich is an unrealistic assumption), we will use the Hurst exponent such that : $$\\sigma_{annualy} = \\sigma_{15-minutes}(252 \\cdot 10 \\cdot 4)^\\hat{H}$$"
   ]
  },
  {
   "cell_type": "code",
   "execution_count": 27,
   "id": "fc004284-673d-45df-b93d-ff8b70d4fd73",
   "metadata": {},
   "outputs": [
    {
     "name": "stdout",
     "output_type": "stream",
     "text": [
      "Annualized volatility for GBPEUR: 0.305699\n",
      "Annualized volatility for SEKEUR: 0.137482\n",
      "Annualized volatility for CADEUR: 0.213970\n"
     ]
    }
   ],
   "source": [
    "def calculate_annualized_volatility(returns, hurst_exponent):\n",
    "    #We compute the mean\n",
    "    mean_return = sum(returns)/len(returns)\n",
    "    #We compute the standard deviation\n",
    "    std_return = np.sqrt(sum((x - mean_return) ** 2 for x in returns) / (len(returns)))\n",
    "\n",
    "    #We then annualize using the hurst exponent with no assumptions of independent returns\n",
    "    #There is 252 of trading days in a year\n",
    "    #There is 10 hours (1 hour is 4*15min) of trading in a day for this data\n",
    "    return std_return *(252 * 10 * 4) ** hurst_exponent\n",
    "\n",
    "annualy_vol_GBPEUR = calculate_annualized_volatility(df[\"RET_GBPEUR\"].dropna().values.astype(float),Hurst_GBPEUR)\n",
    "print(f\"Annualized volatility for GBPEUR: {annualy_vol_GBPEUR:.6f}\")\n",
    "annualy_vol_SEKPEUR = calculate_annualized_volatility(df[\"RET_SEKEUR\"].dropna().values.astype(float),Hurst_SEKEUR)\n",
    "print(f\"Annualized volatility for SEKEUR: {annualy_vol_SEKPEUR:.6f}\")\n",
    "annualy_vol_CADPEUR = calculate_annualized_volatility(df[\"RET_CADEUR\"].dropna().values.astype(float),Hurst_CADEUR)\n",
    "print(f\"Annualized volatility for CADEUR: {annualy_vol_CADPEUR:.6f}\")"
   ]
  }
 ],
 "metadata": {
  "kernelspec": {
   "display_name": "Python 3 (ipykernel)",
   "language": "python",
   "name": "python3"
  },
  "language_info": {
   "codemirror_mode": {
    "name": "ipython",
    "version": 3
   },
   "file_extension": ".py",
   "mimetype": "text/x-python",
   "name": "python",
   "nbconvert_exporter": "python",
   "pygments_lexer": "ipython3",
   "version": "3.9.16"
  }
 },
 "nbformat": 4,
 "nbformat_minor": 5
}
